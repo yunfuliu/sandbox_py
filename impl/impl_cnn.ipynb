{
 "cells": [
  {
   "cell_type": "markdown",
   "metadata": {},
   "source": [
    "This code implements the cnn with tensorflow"
   ]
  },
  {
   "cell_type": "code",
   "execution_count": 1,
   "metadata": {
    "collapsed": false
   },
   "outputs": [],
   "source": [
    "from tensorflow.examples.tutorials.mnist import input_data\n",
    "import tensorflow as tf\n",
    "import numpy as np\n",
    "import matplotlib.pyplot as plt\n",
    "%matplotlib inline\n",
    "\n",
    "# run session\n",
    "sess = tf.InteractiveSession()"
   ]
  },
  {
   "cell_type": "markdown",
   "metadata": {},
   "source": [
    "# Define parameters"
   ]
  },
  {
   "cell_type": "code",
   "execution_count": 2,
   "metadata": {
    "collapsed": false
   },
   "outputs": [],
   "source": [
    "size_image = 28 # image size\n",
    "dim_fe = size_image*size_image # dim of feature \n",
    "n_class = 10 # number of classes\n",
    "size_batch = 50 # batch size\n",
    "\n",
    "class param_conv1:\n",
    "    patch_size = 5\n",
    "    n_input_channels = 1\n",
    "    n_output_channels = 32\n",
    "class param_conv2:\n",
    "    patch_size = 5\n",
    "    n_input_channels = 32\n",
    "    n_output_channels = 64    \n",
    "class param_fc1:\n",
    "    image_size = 7\n",
    "    n_neurons = 1024\n",
    "    n_output_channels = 64"
   ]
  },
  {
   "cell_type": "markdown",
   "metadata": {},
   "source": [
    "# get dataset "
   ]
  },
  {
   "cell_type": "code",
   "execution_count": 3,
   "metadata": {
    "collapsed": false
   },
   "outputs": [
    {
     "name": "stdout",
     "output_type": "stream",
     "text": [
      "Extracting MNIST_data/train-images-idx3-ubyte.gz\n",
      "Extracting MNIST_data/train-labels-idx1-ubyte.gz\n",
      "Extracting MNIST_data/t10k-images-idx3-ubyte.gz\n",
      "Extracting MNIST_data/t10k-labels-idx1-ubyte.gz\n"
     ]
    }
   ],
   "source": [
    "mnist = input_data.read_data_sets('MNIST_data', one_hot=True)"
   ]
  },
  {
   "cell_type": "markdown",
   "metadata": {},
   "source": [
    "# Variable definition"
   ]
  },
  {
   "cell_type": "code",
   "execution_count": 4,
   "metadata": {
    "collapsed": false
   },
   "outputs": [
    {
     "name": "stdout",
     "output_type": "stream",
     "text": [
      "x's shape: (?, 784)\n",
      "y_'s shape: (?, 10)\n"
     ]
    }
   ],
   "source": [
    "x = tf.placeholder(dtype=tf.float32, shape=[None,dim_fe], name='x')\n",
    "y_ = tf.placeholder(dtype=tf.float32, shape=[None,n_class], name='y_')\n",
    "keep_prob = tf.placeholder(dtype=tf.float32, name='keep_prob')\n",
    "print 'x\\'s shape:', x.get_shape()\n",
    "print 'y_\\'s shape:', y_.get_shape()\n"
   ]
  },
  {
   "cell_type": "markdown",
   "metadata": {},
   "source": [
    "# Define layers\n",
    "define functions"
   ]
  },
  {
   "cell_type": "code",
   "execution_count": 5,
   "metadata": {
    "collapsed": true
   },
   "outputs": [],
   "source": [
    "# variables\n",
    "def weight_variable(shape):    \n",
    "    return tf.Variable(tf.truncated_normal(shape=shape,mean=0.,stddev=0.1))\n",
    "def bias_variable(shape):\n",
    "    return tf.Variable(tf.constant(value=0.1,dtype=tf.float32,shape=shape))\n",
    "# operations\n",
    "def conv2d(x, W):\n",
    "    return tf.nn.conv2d(input=x, filter=W, strides=[1,1,1,1], padding='SAME')\n",
    "def max_pool_2x2(x):\n",
    "    return tf.nn.max_pool(value=x, ksize=[1,2,2,1], strides=[1,2,2,1], padding='SAME')"
   ]
  },
  {
   "cell_type": "markdown",
   "metadata": {},
   "source": [
    "define first conv layer"
   ]
  },
  {
   "cell_type": "code",
   "execution_count": 6,
   "metadata": {
    "collapsed": false
   },
   "outputs": [
    {
     "name": "stdout",
     "output_type": "stream",
     "text": [
      "W_conv1's shape: (5, 5, 1, 32)\n",
      "b_conv1's shape: (32,)\n",
      "x's shape: (?, 784)\n",
      "x_image's shape: (?, 28, 28, 1)\n",
      "h_conv1's shape: (?, 28, 28, 32)\n",
      "h_pool1's shape: (?, 14, 14, 32)\n"
     ]
    }
   ],
   "source": [
    "# variables\n",
    "W_conv1 = weight_variable(\n",
    "    shape=[param_conv1.patch_size, param_conv1.patch_size, \n",
    "           param_conv1.n_input_channels, param_conv1.n_output_channels])\n",
    "b_conv1 = bias_variable(\n",
    "    shape=[param_conv1.n_output_channels])\n",
    "print 'W_conv1\\'s shape:', W_conv1.get_shape()\n",
    "print 'b_conv1\\'s shape:', b_conv1.get_shape()\n",
    "\n",
    "# reshape input image\n",
    "print 'x\\'s shape:', x.get_shape()\n",
    "x_image = tf.reshape(tensor=x,shape=[-1,size_image,size_image,1])\n",
    "print 'x_image\\'s shape:', x_image.get_shape()\n",
    "\n",
    "# outputs\n",
    "h_conv1 = tf.nn.relu(conv2d(x_image, W_conv1)+b_conv1)\n",
    "h_pool1 = max_pool_2x2(h_conv1)\n",
    "print 'h_conv1\\'s shape:', h_conv1.get_shape()\n",
    "print 'h_pool1\\'s shape:', h_pool1.get_shape()\n"
   ]
  },
  {
   "cell_type": "markdown",
   "metadata": {},
   "source": [
    "define second conv layer"
   ]
  },
  {
   "cell_type": "code",
   "execution_count": 7,
   "metadata": {
    "collapsed": false
   },
   "outputs": [
    {
     "name": "stdout",
     "output_type": "stream",
     "text": [
      "W_conv2's shape: (5, 5, 32, 64)\n",
      "b_conv2's shape: (64,)\n",
      "h_conv2's shape: (?, 14, 14, 64)\n",
      "h_pool2's shape: (?, 7, 7, 64)\n"
     ]
    }
   ],
   "source": [
    "# variables\n",
    "W_conv2 = weight_variable(\n",
    "    shape=[param_conv2.patch_size, param_conv2.patch_size, \n",
    "           param_conv2.n_input_channels, param_conv2.n_output_channels])\n",
    "b_conv2 = bias_variable(\n",
    "    shape=[param_conv2.n_output_channels])\n",
    "print 'W_conv2\\'s shape:', W_conv2.get_shape()\n",
    "print 'b_conv2\\'s shape:', b_conv2.get_shape()\n",
    "\n",
    "# outputs\n",
    "h_conv2 = tf.nn.relu(conv2d(h_pool1, W_conv2)+b_conv2)\n",
    "h_pool2 = max_pool_2x2(h_conv2)\n",
    "print 'h_conv2\\'s shape:', h_conv2.get_shape()\n",
    "print 'h_pool2\\'s shape:', h_pool2.get_shape()\n"
   ]
  },
  {
   "cell_type": "markdown",
   "metadata": {},
   "source": [
    "define fc1 layer"
   ]
  },
  {
   "cell_type": "code",
   "execution_count": 8,
   "metadata": {
    "collapsed": false
   },
   "outputs": [
    {
     "name": "stdout",
     "output_type": "stream",
     "text": [
      "3136\n",
      "W_fc1's shape: (3136, 1024)\n",
      "b_fc1's shape: (1024,)\n",
      "h_pool2_flat's shape: (?, 3136)\n",
      "h_fc1's shape: (?, 1024)\n"
     ]
    }
   ],
   "source": [
    "n_weights = int(h_pool2.get_shape()[1]*h_pool2.get_shape()[2]*h_pool2.get_shape()[3])\n",
    "print n_weights\n",
    "W_fc1 = weight_variable([n_weights,param_fc1.n_neurons])\n",
    "b_fc1 = bias_variable([param_fc1.n_neurons])\n",
    "print 'W_fc1\\'s shape:', W_fc1.get_shape()\n",
    "print 'b_fc1\\'s shape:', b_fc1.get_shape()\n",
    "\n",
    "# flat h_pool2\n",
    "h_pool2_flat = tf.reshape(h_pool2,shape=[-1,n_weights])\n",
    "print 'h_pool2_flat\\'s shape:', h_pool2_flat.get_shape()\n",
    "\n",
    "# get h_fc1\n",
    "h_fc1 = tf.nn.relu(tf.matmul(h_pool2_flat, W_fc1) + b_fc1)\n",
    "print 'h_fc1\\'s shape:', h_fc1.get_shape()"
   ]
  },
  {
   "cell_type": "markdown",
   "metadata": {},
   "source": [
    "drop out"
   ]
  },
  {
   "cell_type": "code",
   "execution_count": 9,
   "metadata": {
    "collapsed": false
   },
   "outputs": [
    {
     "name": "stdout",
     "output_type": "stream",
     "text": [
      "h_fc1_drop's shape: (?, 1024)\n"
     ]
    }
   ],
   "source": [
    "h_fc1_drop = tf.nn.dropout(h_fc1,keep_prob=keep_prob)\n",
    "print 'h_fc1_drop\\'s shape:', h_fc1_drop.get_shape()"
   ]
  },
  {
   "cell_type": "markdown",
   "metadata": {},
   "source": [
    "define fc1"
   ]
  },
  {
   "cell_type": "code",
   "execution_count": 10,
   "metadata": {
    "collapsed": false
   },
   "outputs": [
    {
     "name": "stdout",
     "output_type": "stream",
     "text": [
      "W_fc2's shape: (1024, 10)\n",
      "b_fc2's shape: (10,)\n",
      "y_conv's shape: (?, 10)\n"
     ]
    }
   ],
   "source": [
    "W_fc2 = weight_variable([int(h_fc1.get_shape()[1]),n_class])\n",
    "b_fc2 = bias_variable([n_class])\n",
    "print 'W_fc2\\'s shape:', W_fc2.get_shape()\n",
    "print 'b_fc2\\'s shape:', b_fc2.get_shape()\n",
    "\n",
    "# # flat h_pool2\n",
    "# h_pool2_flat = tf.reshape(h_pool2,shape=[-1,n_weights])\n",
    "# print 'h_pool2_flat\\'s shape:', h_pool2_flat.get_shape()\n",
    "\n",
    "# get h_fc2\n",
    "y_conv = tf.nn.softmax(tf.matmul(h_fc1_drop, W_fc2) + b_fc2)\n",
    "print 'y_conv\\'s shape:', y_conv.get_shape()"
   ]
  },
  {
   "cell_type": "markdown",
   "metadata": {},
   "source": [
    "# Define loss"
   ]
  },
  {
   "cell_type": "code",
   "execution_count": 11,
   "metadata": {
    "collapsed": false
   },
   "outputs": [],
   "source": [
    "cross_entropy = tf.reduce_mean(\n",
    "    input_tensor=-tf.reduce_sum(input_tensor=y_*tf.log(y_conv), reduction_indices=[1]))\n"
   ]
  },
  {
   "cell_type": "markdown",
   "metadata": {},
   "source": [
    "# Define eval model"
   ]
  },
  {
   "cell_type": "code",
   "execution_count": 12,
   "metadata": {
    "collapsed": false
   },
   "outputs": [],
   "source": [
    "correct_prediction = tf.equal(tf.argmax(y_conv,dimension=1), tf.argmax(y_,dimension=1))\n",
    "accuracy = tf.reduce_mean(input_tensor=tf.cast(correct_prediction, dtype=tf.float32))"
   ]
  },
  {
   "cell_type": "markdown",
   "metadata": {},
   "source": [
    "# Train model"
   ]
  },
  {
   "cell_type": "code",
   "execution_count": 14,
   "metadata": {
    "collapsed": false
   },
   "outputs": [
    {
     "name": "stdout",
     "output_type": "stream",
     "text": [
      "0 0.18\n",
      "50 0.68\n",
      "100 0.78\n",
      "150 0.92\n",
      "200 0.94\n",
      "250 0.92\n",
      "300 0.86\n",
      "350 0.92\n",
      "400 0.98\n",
      "450 0.9\n",
      "500 0.94\n",
      "550 0.96\n",
      "600 0.98\n",
      "650 0.96\n",
      "700 0.96\n",
      "750 0.94\n",
      "800 0.96\n",
      "850 0.98\n",
      "900 0.96\n",
      "950 0.98\n"
     ]
    },
    {
     "data": {
      "text/plain": [
       "[<matplotlib.lines.Line2D at 0x7f40b6098f90>]"
      ]
     },
     "execution_count": 14,
     "metadata": {},
     "output_type": "execute_result"
    },
    {
     "data": {
      "image/png": "[encoded data removed]",
      "text/plain": [
       "<matplotlib.figure.Figure at 0x7f40b62bdad0>"
      ]
     },
     "metadata": {},
     "output_type": "display_data"
    }
   ],
   "source": [
    "train_step = tf.train.AdamOptimizer(learning_rate=1e-4).minimize(loss=cross_entropy)\n",
    "\n",
    "# initialize\n",
    "sess.run(tf.initialize_all_variables())\n",
    "\n",
    "# training\n",
    "x_axis = []\n",
    "err_train = []\n",
    "err_test = []\n",
    "for i in range(1000):\n",
    "    batch = mnist.train.next_batch(50)\n",
    "    train_step.run(feed_dict={x: batch[0], y_: batch[1], keep_prob: 0.5})\n",
    "    # draw error line\n",
    "    if i%50 == 0:\n",
    "        x_axis.append(i)\n",
    "        train_accu = accuracy.eval(feed_dict={x: batch[0], y_: batch[1], keep_prob: 1.0})\n",
    "#         test_accu = accuracy.eval(feed_dict={x: mnist.test.images, y_: mnist.test.labels})\n",
    "        err_train.append(train_accu)\n",
    "#         err_test.append(test_accu)\n",
    "        print i, train_accu\n",
    "    \n",
    "# plot\n",
    "plt.plot(x_axis, err_train)\n",
    "# plt.plot(x_axis, err_test)\n",
    "    \n"
   ]
  },
  {
   "cell_type": "markdown",
   "metadata": {},
   "source": [
    "# eval"
   ]
  },
  {
   "cell_type": "code",
   "execution_count": 1,
   "metadata": {
    "collapsed": false
   },
   "outputs": [
    {
     "ename": "NameError",
     "evalue": "name 'accuracy' is not defined",
     "output_type": "error",
     "traceback": [
      "\u001b[1;31m---------------------------------------------------------------------------\u001b[0m",
      "\u001b[1;31mNameError\u001b[0m                                 Traceback (most recent call last)",
      "\u001b[1;32m<ipython-input-1-4339b97e8e60>\u001b[0m in \u001b[0;36m<module>\u001b[1;34m()\u001b[0m\n\u001b[1;32m----> 1\u001b[1;33m \u001b[1;32mprint\u001b[0m \u001b[0maccuracy\u001b[0m\u001b[1;33m.\u001b[0m\u001b[0meval\u001b[0m\u001b[1;33m(\u001b[0m\u001b[0mfeed_dict\u001b[0m\u001b[1;33m=\u001b[0m\u001b[1;33m{\u001b[0m\u001b[0mx\u001b[0m\u001b[1;33m:\u001b[0m \u001b[0mmnist\u001b[0m\u001b[1;33m.\u001b[0m\u001b[0mtest\u001b[0m\u001b[1;33m.\u001b[0m\u001b[0mimages\u001b[0m\u001b[1;33m,\u001b[0m \u001b[0my_\u001b[0m\u001b[1;33m:\u001b[0m \u001b[0mmnist\u001b[0m\u001b[1;33m.\u001b[0m\u001b[0mtest\u001b[0m\u001b[1;33m.\u001b[0m\u001b[0mlabels\u001b[0m\u001b[1;33m,\u001b[0m \u001b[0mkeep_prob\u001b[0m\u001b[1;33m:\u001b[0m \u001b[1;36m1.0\u001b[0m\u001b[1;33m}\u001b[0m\u001b[1;33m)\u001b[0m\u001b[1;33m\u001b[0m\u001b[0m\n\u001b[0m",
      "\u001b[1;31mNameError\u001b[0m: name 'accuracy' is not defined"
     ]
    }
   ],
   "source": [
    "print accuracy.eval(feed_dict={x: mnist.test.images, y_: mnist.test.labels, keep_prob: 1.0})\n"
   ]
  }
 ],
 "metadata": {
  "kernelspec": {
   "display_name": "Python 2",
   "language": "python",
   "name": "python2"
  },
  "language_info": {
   "codemirror_mode": {
    "name": "ipython",
    "version": 2
   },
   "file_extension": ".py",
   "mimetype": "text/x-python",
   "name": "python",
   "nbconvert_exporter": "python",
   "pygments_lexer": "ipython2",
   "version": "2.7.6"
  }
 },
 "nbformat": 4,
 "nbformat_minor": 0
}
