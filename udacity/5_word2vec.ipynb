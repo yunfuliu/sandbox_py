{
 "cells": [
  {
   "cell_type": "markdown",
   "metadata": {
    "colab_type": "text",
    "id": "D7tqLMoKF6uq"
   },
   "source": [
    "Deep Learning\n",
    "=============\n",
    "\n",
    "Assignment 5\n",
    "------------\n",
    "\n",
    "The goal of this assignment is to train a skip-gram model over [Text8](http://mattmahoney.net/dc/textdata) data."
   ]
  },
  {
   "cell_type": "code",
   "execution_count": 13,
   "metadata": {
    "cellView": "both",
    "colab": {
     "autoexec": {
      "startup": false,
      "wait_interval": 0
     }
    },
    "colab_type": "code",
    "collapsed": true,
    "id": "0K1ZyLn04QZf"
   },
   "outputs": [],
   "source": [
    "# These are all the modules we'll be using later. Make sure you can import them\n",
    "# before proceeding further.\n",
    "from __future__ import print_function\n",
    "import collections\n",
    "import math\n",
    "import numpy as np\n",
    "import os\n",
    "import random\n",
    "import tensorflow as tf\n",
    "import zipfile\n",
    "from matplotlib import pylab\n",
    "from six.moves import range\n",
    "from six.moves.urllib.request import urlretrieve\n",
    "from sklearn.manifold import TSNE"
   ]
  },
  {
   "cell_type": "markdown",
   "metadata": {
    "colab_type": "text",
    "id": "aCjPJE944bkV"
   },
   "source": [
    "Download the data from the source website if necessary."
   ]
  },
  {
   "cell_type": "code",
   "execution_count": 14,
   "metadata": {
    "cellView": "both",
    "colab": {
     "autoexec": {
      "startup": false,
      "wait_interval": 0
     },
     "output_extras": [
      {
       "item_id": 1
      }
     ]
    },
    "colab_type": "code",
    "collapsed": false,
    "executionInfo": {
     "elapsed": 14640,
     "status": "ok",
     "timestamp": 1445964482948,
     "user": {
      "color": "#1FA15D",
      "displayName": "Vincent Vanhoucke",
      "isAnonymous": false,
      "isMe": true,
      "permissionId": "05076109866853157986",
      "photoUrl": "//lh6.googleusercontent.com/-cCJa7dTDcgQ/AAAAAAAAAAI/AAAAAAAACgw/r2EZ_8oYer4/s50-c-k-no/photo.jpg",
      "sessionId": "2f1ffade4c9f20de",
      "userId": "102167687554210253930"
     },
     "user_tz": 420
    },
    "id": "RJ-o3UBUFtCw",
    "outputId": "c4ec222c-80b5-4298-e635-93ca9f79c3b7"
   },
   "outputs": [
    {
     "name": "stdout",
     "output_type": "stream",
     "text": [
      "Found and verified text8.zip\n"
     ]
    }
   ],
   "source": [
    "url = 'http://mattmahoney.net/dc/'\n",
    "\n",
    "def maybe_download(filename, expected_bytes):\n",
    "  \"\"\"Download a file if not present, and make sure it's the right size.\"\"\"\n",
    "  if not os.path.exists(filename):\n",
    "    filename, _ = urlretrieve(url + filename, filename)\n",
    "  statinfo = os.stat(filename)\n",
    "  if statinfo.st_size == expected_bytes:\n",
    "    print('Found and verified %s' % filename)\n",
    "  else:\n",
    "    print(statinfo.st_size)\n",
    "    raise Exception(\n",
    "      'Failed to verify ' + filename + '. Can you get to it with a browser?')\n",
    "  return filename\n",
    "\n",
    "filename = maybe_download('text8.zip', 31344016)"
   ]
  },
  {
   "cell_type": "markdown",
   "metadata": {
    "colab_type": "text",
    "id": "Zqz3XiqI4mZT"
   },
   "source": [
    "Read the data into a string."
   ]
  },
  {
   "cell_type": "code",
   "execution_count": 15,
   "metadata": {
    "cellView": "both",
    "colab": {
     "autoexec": {
      "startup": false,
      "wait_interval": 0
     },
     "output_extras": [
      {
       "item_id": 1
      }
     ]
    },
    "colab_type": "code",
    "collapsed": false,
    "executionInfo": {
     "elapsed": 28844,
     "status": "ok",
     "timestamp": 1445964497165,
     "user": {
      "color": "#1FA15D",
      "displayName": "Vincent Vanhoucke",
      "isAnonymous": false,
      "isMe": true,
      "permissionId": "05076109866853157986",
      "photoUrl": "//lh6.googleusercontent.com/-cCJa7dTDcgQ/AAAAAAAAAAI/AAAAAAAACgw/r2EZ_8oYer4/s50-c-k-no/photo.jpg",
      "sessionId": "2f1ffade4c9f20de",
      "userId": "102167687554210253930"
     },
     "user_tz": 420
    },
    "id": "Mvf09fjugFU_",
    "outputId": "e3a928b4-1645-4fe8-be17-fcf47de5716d"
   },
   "outputs": [
    {
     "name": "stdout",
     "output_type": "stream",
     "text": [
      "Data size 17005207\n"
     ]
    }
   ],
   "source": [
    "def read_data(filename):\n",
    "  f = zipfile.ZipFile(filename)\n",
    "  for name in f.namelist():\n",
    "    return tf.compat.as_str(f.read(name)).split()\n",
    "  f.close()\n",
    "  \n",
    "words = read_data(filename)\n",
    "print('Data size %d' % len(words))"
   ]
  },
  {
   "cell_type": "markdown",
   "metadata": {
    "colab_type": "text",
    "id": "Zdw6i4F8glpp"
   },
   "source": [
    "Build the dictionary and replace rare words with UNK token."
   ]
  },
  {
   "cell_type": "code",
   "execution_count": 16,
   "metadata": {
    "cellView": "both",
    "colab": {
     "autoexec": {
      "startup": false,
      "wait_interval": 0
     },
     "output_extras": [
      {
       "item_id": 1
      }
     ]
    },
    "colab_type": "code",
    "collapsed": false,
    "executionInfo": {
     "elapsed": 28849,
     "status": "ok",
     "timestamp": 1445964497178,
     "user": {
      "color": "#1FA15D",
      "displayName": "Vincent Vanhoucke",
      "isAnonymous": false,
      "isMe": true,
      "permissionId": "05076109866853157986",
      "photoUrl": "//lh6.googleusercontent.com/-cCJa7dTDcgQ/AAAAAAAAAAI/AAAAAAAACgw/r2EZ_8oYer4/s50-c-k-no/photo.jpg",
      "sessionId": "2f1ffade4c9f20de",
      "userId": "102167687554210253930"
     },
     "user_tz": 420
    },
    "id": "gAL1EECXeZsD",
    "outputId": "3fb4ecd1-df67-44b6-a2dc-2291730970b2"
   },
   "outputs": [
    {
     "name": "stdout",
     "output_type": "stream",
     "text": [
      "Most common words (+UNK) [['UNK', 418391], ('the', 1061396), ('of', 593677), ('and', 416629), ('one', 411764)]\n",
      "Sample data [5239, 3084, 12, 6, 195, 2, 3137, 46, 59, 156]\n"
     ]
    }
   ],
   "source": [
    "vocabulary_size = 50000\n",
    "\n",
    "def build_dataset(words):\n",
    "  count = [['UNK', -1]]\n",
    "  count.extend(collections.Counter(words).most_common(vocabulary_size - 1))\n",
    "  dictionary = dict()\n",
    "  for word, _ in count:\n",
    "    dictionary[word] = len(dictionary)\n",
    "  data = list()\n",
    "  unk_count = 0\n",
    "  for word in words:\n",
    "    if word in dictionary:\n",
    "      index = dictionary[word]\n",
    "    else:\n",
    "      index = 0  # dictionary['UNK']\n",
    "      unk_count = unk_count + 1\n",
    "    data.append(index)\n",
    "  count[0][1] = unk_count\n",
    "  reverse_dictionary = dict(zip(dictionary.values(), dictionary.keys())) \n",
    "  return data, count, dictionary, reverse_dictionary\n",
    "\n",
    "data, count, dictionary, reverse_dictionary = build_dataset(words)\n",
    "print('Most common words (+UNK)', count[:5])\n",
    "print('Sample data', data[:10])\n",
    "del words  # Hint to reduce memory."
   ]
  },
  {
   "cell_type": "code",
   "execution_count": 17,
   "metadata": {
    "collapsed": false
   },
   "outputs": [
    {
     "name": "stdout",
     "output_type": "stream",
     "text": [
      "<type 'list'> 17005207\n",
      "<type 'list'> 50000\n",
      "<type 'dict'> 50000\n",
      "<type 'dict'> 50000\n",
      "word: [of]->  2\n",
      "word: [2]->  of\n",
      "idx: 0 -> 5239 ['UNK', 418391]\n",
      "idx: 1 -> 3084 ('the', 1061396)\n",
      "idx: 2 -> 12 ('of', 593677)\n",
      "idx: 3 -> 6 ('and', 416629)\n",
      "idx: 4 -> 195 ('one', 411764)\n",
      "idx: 5 -> 2 ('in', 372201)\n",
      "idx: 6 -> 3137 ('a', 325873)\n",
      "idx: 7 -> 46 ('to', 316376)\n",
      "idx: 8 -> 59 ('zero', 264975)\n",
      "idx: 9 -> 156 ('nine', 250430)\n"
     ]
    }
   ],
   "source": [
    "print(type(data), len(data)) # 'word index' of each word in the entire 'words' data. the 'word index' is defined in 'dictionary' \n",
    "print(type(count), len(count)) # contains words and their counts, i.e., ('of', 593677).\n",
    "print(type(dictionary), len(dictionary)) # use 'word' to find its 'ranked index'\n",
    "print(type(reverse_dictionary), len(reverse_dictionary)) # use 'ranked index' to find its 'word'\n",
    "\n",
    "word_text = 'of'\n",
    "print('word: [%s]-> '%word_text, dictionary[word_text])\n",
    "word_text = 2\n",
    "print('word: [%s]-> '%word_text, reverse_dictionary[word_text])\n",
    "\n",
    "for word_idx in range(10):\n",
    "    print('idx:', word_idx, '->', data[word_idx], count[word_idx])\n"
   ]
  },
  {
   "cell_type": "markdown",
   "metadata": {
    "colab_type": "text",
    "id": "lFwoyygOmWsL"
   },
   "source": [
    "Function to generate a training batch for the skip-gram model."
   ]
  },
  {
   "cell_type": "code",
   "execution_count": 18,
   "metadata": {
    "cellView": "both",
    "colab": {
     "autoexec": {
      "startup": false,
      "wait_interval": 0
     },
     "output_extras": [
      {
       "item_id": 1
      }
     ]
    },
    "colab_type": "code",
    "collapsed": false,
    "executionInfo": {
     "elapsed": 113,
     "status": "ok",
     "timestamp": 1445964901989,
     "user": {
      "color": "#1FA15D",
      "displayName": "Vincent Vanhoucke",
      "isAnonymous": false,
      "isMe": true,
      "permissionId": "05076109866853157986",
      "photoUrl": "//lh6.googleusercontent.com/-cCJa7dTDcgQ/AAAAAAAAAAI/AAAAAAAACgw/r2EZ_8oYer4/s50-c-k-no/photo.jpg",
      "sessionId": "2f1ffade4c9f20de",
      "userId": "102167687554210253930"
     },
     "user_tz": 420
    },
    "id": "w9APjA-zmfjV",
    "outputId": "67cccb02-cdaf-4e47-d489-43bcc8d57bb8"
   },
   "outputs": [
    {
     "name": "stdout",
     "output_type": "stream",
     "text": [
      "data: ['anarchism', 'originated', 'as', 'a', 'term', 'of', 'abuse', 'first']\n",
      "\n",
      "with num_skips = 2 and skip_window = 1:\n",
      "    batch: ['originated', 'originated', 'as', 'as', 'a', 'a', 'term', 'term']\n",
      "    labels: ['anarchism', 'as', 'a', 'originated', 'as', 'term', 'of', 'a']\n",
      "\n",
      "with num_skips = 4 and skip_window = 2:\n",
      "    batch: ['as', 'as', 'as', 'as', 'a', 'a', 'a', 'a']\n",
      "    labels: ['originated', 'term', 'a', 'anarchism', 'term', 'of', 'originated', 'as']\n"
     ]
    }
   ],
   "source": [
    "data_index = 0\n",
    "\n",
    "# batch: center `word`\n",
    "# labels: `label[a]` is the neighboring word around the center word `batch[a]`\n",
    "\n",
    "def generate_batch(batch_size, num_skips, skip_window):\n",
    "    # batch_size: one independent segment. All the processes are in this batch. \n",
    "    # num_skips: it is the number of neighbors around the center word. (batch_size % num_skips == 0)\n",
    "    # skip_window: it's the single side size of the window `span`. a window (`span`) of size 3 is of the `skip_window`=1 (batch_size % num_skips == 0)\n",
    "\n",
    "  global data_index\n",
    "  assert batch_size % num_skips == 0\n",
    "  assert num_skips <= 2 * skip_window\n",
    "  span = 2 * skip_window + 1 # [ skip_window target skip_window ]\n",
    "  buffer = collections.deque(maxlen=span)\n",
    "#   print('buffer:', type(buffer), buffer)\n",
    "#   print('span:', type(span), span)\n",
    "  \n",
    "#   print('[PART I]:')\n",
    "  # get buffer, which stores the `word index` of the words in the window of size `span`, the left most position of this window is `data_index`\n",
    "  for _ in range(span):\n",
    "#     print(data_index, data[data_index])\n",
    "    buffer.append(data[data_index])\n",
    "    data_index = (data_index + 1) % len(data) # repeat\n",
    "#   print('buffer_start:', type(buffer), buffer,'\\n') # 'word index': with the 'data_index' in entire words data, it stores the 'word index' defined in dictionary \n",
    "  \n",
    "#   print('[PART II]:')\n",
    "#   batch = np.ndarray(shape=(batch_size), dtype=np.int32)\n",
    "  batch = -1*np.ones(shape=(batch_size), dtype=np.int32)\n",
    "#   print('batch(-1,-1):', type(batch), batch)\n",
    "#   labels = np.ndarray(shape=(batch_size, 1), dtype=np.int32)  \n",
    "  labels = -1*np.ones(shape=(batch_size, 1), dtype=np.int32)\n",
    "#   print('labels(-1,-1):', type(labels), np.transpose(labels))\n",
    "#   print(batch_size, num_skips, batch_size // num_skips)\n",
    "  for i in range(batch_size // num_skips):\n",
    "    target = skip_window  # target label at the center of the buffer, range [0,span-1]\n",
    "#     print('target:', type(target), target)\n",
    "    targets_to_avoid = [ skip_window ] # used target\n",
    "#     print('targets_to_avoid:', type(targets_to_avoid), targets_to_avoid)\n",
    "    \n",
    "    for j in range(num_skips):\n",
    "#       print('skip_window:',skip_window)\n",
    "      while target in targets_to_avoid: # select another `target`\n",
    "        target = random.randint(0, span - 1) # random select from the current `span` size\n",
    "      targets_to_avoid.append(target) # add new `target` to list\n",
    "#       print('targets_to_avoid:', type(targets_to_avoid), targets_to_avoid)\n",
    "      batch[i * num_skips + j] = buffer[skip_window] # 'word index' of the center word in 'buffer'\n",
    "#       print('batch(%d,%d):'%(i,j), type(batch), batch)\n",
    "      labels[i * num_skips + j, 0] = buffer[target] # `word index` of the `target`\n",
    "#       print('labels(%d,%d):'%(i,j), type(labels), np.transpose(labels))\n",
    "    \n",
    "    buffer.append(data[data_index])\n",
    "#     print('buffer_end:', type(buffer), buffer,'\\n')\n",
    "    data_index = (data_index + 1) % len(data)\n",
    "  return batch, labels\n",
    "\n",
    "print('data:', [reverse_dictionary[di] for di in data[:8]])\n",
    "\n",
    "for num_skips, skip_window in [(2, 1), (4, 2)]:\n",
    "    print('\\nwith num_skips = %d and skip_window = %d:' % (num_skips, skip_window))\n",
    "    data_index = 0\n",
    "    batch, labels = generate_batch(batch_size=8, num_skips=num_skips, skip_window=skip_window)\n",
    "    print('    batch:', [reverse_dictionary[bi] for bi in batch])\n",
    "    print('    labels:', [reverse_dictionary[li] for li in labels.reshape(8)])"
   ]
  },
  {
   "cell_type": "markdown",
   "metadata": {
    "colab_type": "text",
    "id": "Ofd1MbBuwiva"
   },
   "source": [
    "Train a skip-gram model."
   ]
  },
  {
   "cell_type": "code",
   "execution_count": 7,
   "metadata": {
    "cellView": "both",
    "colab": {
     "autoexec": {
      "startup": false,
      "wait_interval": 0
     }
    },
    "colab_type": "code",
    "collapsed": false,
    "id": "8pQKsV4Vwlzy"
   },
   "outputs": [
    {
     "name": "stdout",
     "output_type": "stream",
     "text": [
      "train_dataset: (128,)\n",
      "train_labels: (128, 1)\n",
      "valid_dataset: (16,)\n",
      "embeddings: (50000, 128)\n",
      "softmax_weights: (50000, 128)\n",
      "softmax_biases: (50000,)\n",
      "embed: (128, 128)\n",
      "loss: ()\n",
      "norm: (50000, 1)\n",
      "normalized_embeddings: (50000, 128)\n",
      "valid_embeddings: (16, 128)\n",
      "similarity: (16, 50000)\n"
     ]
    }
   ],
   "source": [
    "batch_size = 128\n",
    "embedding_size = 128 # Dimension of the embedding vector.\n",
    "skip_window = 1 # How many words to consider left and right.\n",
    "num_skips = 2 # How many times to reuse an input to generate a label.\n",
    "# We pick a random validation set to sample nearest neighbors. here we limit the\n",
    "# validation samples to the words that have a low numeric ID, which by\n",
    "# construction are also the most frequent. \n",
    "valid_size = 16 # Random set of words to evaluate similarity on.\n",
    "valid_window = 100 # Only pick dev samples in the head of the distribution.\n",
    "valid_examples = np.array(random.sample(range(valid_window), valid_size))\n",
    "num_sampled = 64 # Number of negative examples to sample.\n",
    "\n",
    "graph = tf.Graph()\n",
    "\n",
    "with graph.as_default():\n",
    "\n",
    "    # Input data.\n",
    "    train_dataset = tf.placeholder(tf.int32, shape=[batch_size])\n",
    "    print('train_dataset:', train_dataset.get_shape())\n",
    "    train_labels = tf.placeholder(tf.int32, shape=[batch_size, 1])\n",
    "    print('train_labels:', train_labels.get_shape())\n",
    "    valid_dataset = tf.constant(valid_examples, dtype=tf.int32)\n",
    "    print('valid_dataset:', valid_dataset.get_shape())\n",
    "\n",
    "    # Variables.\n",
    "    embeddings = tf.Variable(tf.random_uniform([vocabulary_size, embedding_size], -1.0, 1.0))\n",
    "    print('embeddings:', embeddings.get_shape())\n",
    "    softmax_weights = tf.Variable(tf.truncated_normal([vocabulary_size, embedding_size],stddev=1.0 / math.sqrt(embedding_size)))\n",
    "    print('softmax_weights:', softmax_weights.get_shape())\n",
    "    softmax_biases = tf.Variable(tf.zeros([vocabulary_size]))\n",
    "    print('softmax_biases:', softmax_biases.get_shape())\n",
    "\n",
    "    # Model.\n",
    "    # Look up embeddings for inputs.\n",
    "    embed = tf.nn.embedding_lookup(embeddings, train_dataset)\n",
    "    print('embed:', embed.get_shape())\n",
    "    # Compute the softmax loss, using a sample of the negative labels each time.\n",
    "    loss = tf.reduce_mean(tf.nn.sampled_softmax_loss(softmax_weights, softmax_biases, embed,train_labels, num_sampled, vocabulary_size))\n",
    "    print('loss:', loss.get_shape())\n",
    "\n",
    "    # Optimizer.\n",
    "    optimizer = tf.train.AdagradOptimizer(1.0).minimize(loss)\n",
    " \n",
    "    # Compute the similarity between minibatch examples and all embeddings.\n",
    "    # We use the cosine distance:\n",
    "    norm = tf.sqrt(tf.reduce_sum(tf.square(embeddings), 1, keep_dims=True))\n",
    "    print('norm:', norm.get_shape())\n",
    "    normalized_embeddings = embeddings / norm # use normed embedding for the following inner product\n",
    "    print('normalized_embeddings:', normalized_embeddings.get_shape())\n",
    "    valid_embeddings = tf.nn.embedding_lookup(normalized_embeddings, valid_dataset) # get the embeddings of the words in valid set\n",
    "    print('valid_embeddings:', valid_embeddings.get_shape())\n",
    "    similarity = tf.matmul(valid_embeddings, tf.transpose(normalized_embeddings)) # calc the distance, each value denotes the similarity between two words\n",
    "    print('similarity:', similarity.get_shape())\n",
    "    # so in this case, the weights and bias are not needed for the appliation. The only thing it needs is just the embeddings. "
   ]
  },
  {
   "cell_type": "code",
   "execution_count": 8,
   "metadata": {
    "cellView": "both",
    "colab": {
     "autoexec": {
      "startup": false,
      "wait_interval": 0
     },
     "output_extras": [
      {
       "item_id": 23
      },
      {
       "item_id": 48
      },
      {
       "item_id": 61
      }
     ]
    },
    "colab_type": "code",
    "collapsed": false,
    "executionInfo": {
     "elapsed": 436189,
     "status": "ok",
     "timestamp": 1445965429787,
     "user": {
      "color": "#1FA15D",
      "displayName": "Vincent Vanhoucke",
      "isAnonymous": false,
      "isMe": true,
      "permissionId": "05076109866853157986",
      "photoUrl": "//lh6.googleusercontent.com/-cCJa7dTDcgQ/AAAAAAAAAAI/AAAAAAAACgw/r2EZ_8oYer4/s50-c-k-no/photo.jpg",
      "sessionId": "2f1ffade4c9f20de",
      "userId": "102167687554210253930"
     },
     "user_tz": 420
    },
    "id": "1bQFGceBxrWW",
    "outputId": "5ebd6d9a-33c6-4bcd-bf6d-252b0b6055e4"
   },
   "outputs": [
    {
     "name": "stdout",
     "output_type": "stream",
     "text": [
      "Initialized\n",
      "Average loss at step 0: 8.098579\n",
      "Nearest to his: baresi, distal, ivb, artistry, acts, docks, easterly, procreation,\n",
      "Nearest to used: boldness, amperes, alois, katydids, hereditary, vertebrate, retellings, pogues,\n",
      "Nearest to five: hag, bsd, ulaanbaatar, icmp, brilliance, goddard, quarto, fdp,\n",
      "Nearest to of: cohabitation, pubescent, discounted, scriptorium, pillars, discordianism, sideline, hale,\n",
      "Nearest to on: acquitted, interconnects, ramayana, historically, softened, above, cbc, resort,\n",
      "Nearest to be: mishneh, pretoria, alters, speciality, stances, disillusioned, palahniuk, takeoff,\n",
      "Nearest to after: molded, zoroastrianism, ulrich, nasional, proceeding, autoroute, tremendous, government,\n",
      "Nearest to most: hurts, panthers, rested, agincourt, ges, interfere, denotes, corning,\n",
      "Nearest to however: fresh, arise, respiration, exec, curbed, orwell, yat, flunitrazepam,\n",
      "Nearest to with: cans, mehmet, blockbusters, vom, demographics, using, optative, lincoln,\n",
      "Nearest to they: midday, unjustified, relegated, wicked, recreate, sake, churchmen, wilmut,\n",
      "Nearest to other: oversaw, class, heineken, cleavage, bore, nitrogen, kliper, heckman,\n",
      "Nearest to also: karsh, ghibellines, moss, alamanni, ethology, pagan, genosha, improvising,\n",
      "Nearest to between: virginal, isostatic, deployable, permutations, ubiquity, warheads, bland, mount,\n",
      "Nearest to six: parallelism, armature, hyphens, peculiar, demokratische, strassburg, territorial, felt,\n",
      "Nearest to during: anglicised, fanny, izmir, kocher, unnoticed, nellie, excelling, untouchables,\n",
      "Average loss at step 2000: 4.361033\n",
      "Average loss at step 4000: 3.863271\n",
      "Average loss at step 6000: 3.788554\n",
      "Average loss at step 8000: 3.683412\n",
      "Average loss at step 10000: 3.615479\n",
      "Nearest to his: their, the, its, s, commanders, her, academia, fianna,\n",
      "Nearest to used: jabir, known, seen, rium, descendant, boldness, hco, currents,\n",
      "Nearest to five: six, nine, eight, three, four, seven, zero, two,\n",
      "Nearest to of: in, himachal, for, during, and, caudal, at, entertainments,\n",
      "Nearest to on: at, in, interconnects, acquitted, importance, merits, since, seizing,\n",
      "Nearest to be: have, pretoria, refer, disillusioned, is, was, go, dint,\n",
      "Nearest to after: before, toland, encephalopathy, palate, reluctance, laser, nebuchadrezzar, zoroastrianism,\n",
      "Nearest to most: hurts, solidify, civilizations, gifford, valkyrie, purchasers, korn, prosecution,\n",
      "Nearest to however: though, fresh, hasmonaean, overheat, issachar, but, remaining, legislator,\n",
      "Nearest to with: in, using, cubans, sys, expensive, blockbusters, for, congreso,\n",
      "Nearest to they: he, you, it, she, there, who, we, not,\n",
      "Nearest to other: prs, navarre, others, restraints, starch, mercantilist, furthered, jeroboam,\n",
      "Nearest to also: which, never, been, often, widely, obelix, not, could,\n",
      "Nearest to between: isostatic, ubiquity, informer, deployable, permutations, copernicus, virginal, implies,\n",
      "Nearest to six: eight, five, nine, four, seven, three, zero, two,\n",
      "Nearest to during: clocks, anglicised, kocher, of, translator, fanny, travelogues, snow,\n",
      "Average loss at step 12000: 3.605312\n",
      "Average loss at step 14000: 3.566842\n",
      "Average loss at step 16000: 3.408815\n",
      "Average loss at step 18000: 3.457009\n",
      "Average loss at step 20000: 3.537914\n",
      "Nearest to his: their, her, its, the, academia, commanders, this, some,\n",
      "Nearest to used: known, seen, lancer, jabir, descendant, described, respondents, visibly,\n",
      "Nearest to five: three, six, four, eight, seven, zero, two, nine,\n",
      "Nearest to of: himachal, for, kat, pubescent, same, ungrammatical, in, nash,\n",
      "Nearest to on: in, at, since, acquitted, interconnects, through, forgery, overland,\n",
      "Nearest to be: have, been, by, was, is, go, were, refer,\n",
      "Nearest to after: before, from, toland, reluctance, palate, when, laser, cults,\n",
      "Nearest to most: some, more, many, all, hurts, wavy, less, solidify,\n",
      "Nearest to however: but, though, issachar, interdisciplinary, hasmonaean, paired, fresh, before,\n",
      "Nearest to with: between, blockbusters, pubic, using, at, sys, for, cubans,\n",
      "Nearest to they: he, we, there, you, it, who, she, not,\n",
      "Nearest to other: restraints, prs, some, many, others, walken, dyess, such,\n",
      "Nearest to also: which, often, who, never, crowding, now, not, widely,\n",
      "Nearest to between: with, from, following, mount, deployable, informer, implies, participating,\n",
      "Nearest to six: eight, nine, four, five, seven, three, zero, two,\n",
      "Nearest to during: anglicised, translator, clocks, snow, travelogues, raccoon, izmir, at,\n",
      "Average loss at step 22000: 3.498637\n",
      "Average loss at step 24000: 3.488665\n",
      "Average loss at step 26000: 3.485092\n",
      "Average loss at step 28000: 3.484719\n",
      "Average loss at step 30000: 3.502898\n",
      "Nearest to his: their, her, its, s, the, commanders, academia, instability,\n",
      "Nearest to used: known, seen, referred, found, currents, leftist, described, replaced,\n",
      "Nearest to five: eight, four, three, seven, six, nine, zero, two,\n",
      "Nearest to of: in, for, and, including, kat, forbids, geo, coli,\n",
      "Nearest to on: in, through, against, pentecostalism, since, around, when, upon,\n",
      "Nearest to be: been, have, is, go, are, were, being, refer,\n",
      "Nearest to after: before, when, during, for, toland, in, moyers, was,\n",
      "Nearest to most: some, more, many, all, gora, agriculturally, wavy, ackerman,\n",
      "Nearest to however: but, though, although, if, that, remaining, before, fresh,\n",
      "Nearest to with: between, for, into, using, when, sys, or, in,\n",
      "Nearest to they: there, we, he, you, it, who, these, she,\n",
      "Nearest to other: various, different, prs, some, restraints, these, vanuatu, dyess,\n",
      "Nearest to also: often, sometimes, now, which, never, it, who, crowding,\n",
      "Nearest to between: with, from, in, mount, following, drier, into, informer,\n",
      "Nearest to six: four, eight, seven, nine, five, three, zero, two,\n",
      "Nearest to during: in, after, at, when, anglicised, translator, clocks, travelogues,\n",
      "Average loss at step 32000: 3.502479\n",
      "Average loss at step 34000: 3.490735\n",
      "Average loss at step 36000: 3.456877\n",
      "Average loss at step 38000: 3.302486\n",
      "Average loss at step 40000: 3.429889\n",
      "Nearest to his: their, her, its, my, the, s, academia, your,\n",
      "Nearest to used: referred, seen, known, found, described, currents, considered, able,\n",
      "Nearest to five: seven, six, four, three, eight, zero, two, nine,\n",
      "Nearest to of: in, himachal, thermal, recreationally, qualia, shona, postmaster, for,\n",
      "Nearest to on: upon, at, in, against, through, about, during, habermas,\n",
      "Nearest to be: been, have, is, go, refer, offer, being, by,\n",
      "Nearest to after: before, when, during, avc, toland, accumulations, was, without,\n",
      "Nearest to most: more, some, less, many, hurts, very, agriculturally, hollywood,\n",
      "Nearest to however: but, though, although, that, they, declared, ero, would,\n",
      "Nearest to with: between, using, sys, from, blockbusters, cubans, when, by,\n",
      "Nearest to they: we, you, he, there, it, these, eventually, she,\n",
      "Nearest to other: different, various, prs, preceding, more, many, are, some,\n",
      "Nearest to also: often, which, sometimes, never, now, adventists, crowding, who,\n",
      "Nearest to between: with, following, from, mount, into, ginger, deployable, brushed,\n",
      "Nearest to six: four, seven, five, eight, three, nine, two, zero,\n",
      "Nearest to during: after, when, in, at, until, although, kahane, without,\n",
      "Average loss at step 42000: 3.436075\n",
      "Average loss at step 44000: 3.451897\n",
      "Average loss at step 46000: 3.449476\n",
      "Average loss at step 48000: 3.355455\n",
      "Average loss at step 50000: 3.381688\n",
      "Nearest to his: her, their, its, my, the, your, instability, him,\n",
      "Nearest to used: known, referred, seen, found, described, currents, intended, noted,\n",
      "Nearest to five: seven, four, eight, six, three, zero, nine, two,\n",
      "Nearest to of: in, himachal, from, kat, wallet, kam, including, zapatista,\n",
      "Nearest to on: upon, in, around, through, within, at, about, under,\n",
      "Nearest to be: have, been, was, become, refer, being, were, is,\n",
      "Nearest to after: before, when, during, while, without, avc, exacted, toland,\n",
      "Nearest to most: more, some, less, many, advantages, agriculturally, highly, namath,\n",
      "Nearest to however: but, although, though, that, when, while, where, during,\n",
      "Nearest to with: between, using, into, sys, syllabaries, alai, dione, okinawan,\n",
      "Nearest to they: we, he, there, you, she, it, these, eventually,\n",
      "Nearest to other: various, different, restraints, vanuatu, prs, many, untrained, others,\n",
      "Nearest to also: often, which, now, never, sometimes, who, gilda, generally,\n",
      "Nearest to between: with, within, in, following, from, into, implies, chorales,\n",
      "Nearest to six: eight, seven, four, nine, five, three, two, zero,\n",
      "Nearest to during: after, in, when, including, at, under, while, iff,\n",
      "Average loss at step 52000: 3.434050\n",
      "Average loss at step 54000: 3.424304\n",
      "Average loss at step 56000: 3.437622\n",
      "Average loss at step 58000: 3.396932\n",
      "Average loss at step 60000: 3.392759\n",
      "Nearest to his: her, their, its, my, instability, your, our, the,\n",
      "Nearest to used: known, referred, seen, found, described, available, considered, designed,\n",
      "Nearest to five: four, six, three, seven, eight, zero, nine, two,\n",
      "Nearest to of: for, in, thermal, despite, himachal, including, sargent, abol,\n",
      "Nearest to on: upon, through, within, cartan, in, about, around, diverting,\n",
      "Nearest to be: been, is, become, refer, being, by, have, are,\n",
      "Nearest to after: before, during, when, without, despite, while, following, toland,\n",
      "Nearest to most: some, more, many, kowtow, less, especially, gora, highly,\n",
      "Nearest to however: but, although, though, that, when, which, annoying, unless,\n",
      "Nearest to with: between, among, by, including, in, into, using, etymologies,\n",
      "Nearest to they: we, there, you, he, she, it, these, summoned,\n",
      "Nearest to other: different, various, restraints, those, more, steppes, many, others,\n",
      "Nearest to also: now, often, never, sometimes, generally, still, who, it,\n",
      "Nearest to between: with, among, from, following, within, into, chorales, in,\n",
      "Nearest to six: eight, four, five, nine, three, seven, zero, two,\n",
      "Nearest to during: after, following, in, when, although, before, until, despite,\n",
      "Average loss at step 62000: 3.237713\n",
      "Average loss at step 64000: 3.254607\n",
      "Average loss at step 66000: 3.403558\n",
      "Average loss at step 68000: 3.393791\n",
      "Average loss at step 70000: 3.359085\n",
      "Nearest to his: her, their, my, its, your, our, maccabean, the,\n",
      "Nearest to used: known, referred, seen, described, intended, designed, found, useful,\n",
      "Nearest to five: six, four, three, zero, eight, seven, nine, two,\n",
      "Nearest to of: including, himachal, include, thermal, for, original, specific, nee,\n",
      "Nearest to on: upon, through, in, within, exit, under, mahabharata, cartan,\n",
      "Nearest to be: been, is, become, were, was, being, refer, by,\n",
      "Nearest to after: before, during, while, despite, without, when, toland, avc,\n",
      "Nearest to most: more, many, some, less, especially, highly, kowtow, particularly,\n",
      "Nearest to however: but, although, though, that, while, when, where, which,\n",
      "Nearest to with: between, giraffe, among, sys, dione, using, blockbusters, zapu,\n",
      "Nearest to they: we, there, you, he, it, she, eventually, who,\n",
      "Nearest to other: different, various, inhaling, steppes, more, restraints, vanuatu, many,\n",
      "Nearest to also: now, often, never, which, still, generally, sometimes, usually,\n",
      "Nearest to between: with, among, within, from, chorales, in, into, jj,\n",
      "Nearest to six: eight, four, five, nine, seven, three, zero, two,\n",
      "Nearest to during: after, following, despite, before, in, until, when, although,\n",
      "Average loss at step 72000: 3.370498\n",
      "Average loss at step 74000: 3.352090\n",
      "Average loss at step 76000: 3.311991\n",
      "Average loss at step 78000: 3.344999\n",
      "Average loss at step 80000: 3.378949\n",
      "Nearest to his: her, their, my, its, our, your, the, instability,\n",
      "Nearest to used: referred, known, seen, found, described, designed, written, available,\n",
      "Nearest to five: six, four, seven, eight, three, zero, nine, two,\n",
      "Nearest to of: outperform, including, nee, in, thermal, entire, kat, himachal,\n",
      "Nearest to on: upon, through, in, cartan, under, within, cogito, during,\n",
      "Nearest to be: been, have, become, being, was, were, is, unfettered,\n",
      "Nearest to after: before, during, when, despite, without, while, following, from,\n",
      "Nearest to most: some, more, many, especially, less, highly, agriculturally, gora,\n",
      "Nearest to however: but, although, though, that, while, when, where, since,\n",
      "Nearest to with: between, through, in, sys, etymologies, blockbusters, when, hayao,\n",
      "Nearest to they: we, he, there, you, she, it, summoned, eventually,\n",
      "Nearest to other: inhaling, various, different, decompose, others, many, terrestrial, vanuatu,\n",
      "Nearest to also: now, often, never, sometimes, which, still, beryl, usually,\n",
      "Nearest to between: among, within, with, throughout, from, over, actual, rinse,\n",
      "Nearest to six: five, four, seven, eight, three, nine, zero, two,\n",
      "Nearest to during: after, despite, following, in, when, throughout, before, until,\n",
      "Average loss at step 82000: 3.406617\n",
      "Average loss at step 84000: 3.413707\n",
      "Average loss at step 86000: 3.383195\n",
      "Average loss at step 88000: 3.350032\n",
      "Average loss at step 90000: 3.367039\n",
      "Nearest to his: her, their, its, my, our, your, the, instability,\n",
      "Nearest to used: referred, known, seen, found, intended, designed, called, described,\n",
      "Nearest to five: four, seven, three, six, eight, nine, zero, two,\n",
      "Nearest to of: including, in, during, rehabilitated, bri, and, include, for,\n",
      "Nearest to on: upon, under, against, through, diverting, in, toward, within,\n",
      "Nearest to be: been, is, become, was, have, being, easily, refer,\n",
      "Nearest to after: before, during, when, while, despite, without, until, following,\n",
      "Nearest to most: more, some, many, especially, less, use, gora, agriculturally,\n",
      "Nearest to however: but, although, that, though, while, since, where, ecumenical,\n",
      "Nearest to with: between, in, sys, pinnacles, diffused, by, into, blockbusters,\n",
      "Nearest to they: we, he, there, you, she, it, but, eventually,\n",
      "Nearest to other: various, individual, different, inhaling, others, vanuatu, untrained, polish,\n",
      "Nearest to also: often, now, never, sometimes, which, still, generally, then,\n",
      "Nearest to between: with, within, among, from, in, into, following, through,\n",
      "Nearest to six: seven, eight, five, four, three, nine, zero, two,\n",
      "Nearest to during: after, following, despite, in, throughout, before, when, although,\n",
      "Average loss at step 92000: 3.398893\n",
      "Average loss at step 94000: 3.257076\n",
      "Average loss at step 96000: 3.357389\n",
      "Average loss at step 98000: 3.239257\n",
      "Average loss at step 100000: 3.360010\n",
      "Nearest to his: her, their, my, its, our, the, your, s,\n",
      "Nearest to used: referred, seen, found, known, designed, useful, applied, intended,\n",
      "Nearest to five: four, six, seven, eight, three, zero, nine, two,\n",
      "Nearest to of: in, himachal, including, qualia, and, thermal, entire, postmaster,\n",
      "Nearest to on: upon, through, at, in, under, within, around, cartan,\n",
      "Nearest to be: been, have, is, refer, become, are, easily, were,\n",
      "Nearest to after: before, during, when, despite, while, without, although, through,\n",
      "Nearest to most: more, less, especially, some, many, particularly, agriculturally, throughout,\n",
      "Nearest to however: although, but, that, though, where, while, especially, which,\n",
      "Nearest to with: between, etymologies, sys, at, unreachable, within, using, sampler,\n",
      "Nearest to they: we, he, there, you, she, it, eventually, never,\n",
      "Nearest to other: various, others, inhaling, vanuatu, different, kontor, untrained, individual,\n",
      "Nearest to also: now, never, sometimes, still, often, which, actually, typically,\n",
      "Nearest to between: with, among, within, over, jj, from, rinse, chorales,\n",
      "Nearest to six: seven, five, four, eight, nine, three, zero, two,\n",
      "Nearest to during: after, in, following, despite, throughout, when, through, including,\n"
     ]
    }
   ],
   "source": [
    "num_steps = 100001\n",
    "\n",
    "with tf.Session(graph=graph) as session:\n",
    "  tf.initialize_all_variables().run()\n",
    "  print('Initialized')\n",
    "  average_loss = 0\n",
    "  for step in range(num_steps):\n",
    "    batch_data, batch_labels = generate_batch(batch_size, num_skips, skip_window)\n",
    "    feed_dict = {train_dataset : batch_data, train_labels : batch_labels}\n",
    "    _, l = session.run([optimizer, loss], feed_dict=feed_dict)\n",
    "    \n",
    "    average_loss += l\n",
    "    if step % 2000 == 0:\n",
    "      if step > 0:\n",
    "        average_loss = average_loss / 2000\n",
    "      # The average loss is an estimate of the loss over the last 2000 batches.\n",
    "      print('Average loss at step %d: %f' % (step, average_loss))\n",
    "      average_loss = 0\n",
    "    \n",
    "    # note that this is expensive (~20% slowdown if computed every 500 steps)\n",
    "    if step % 10000 == 0:\n",
    "      sim = similarity.eval()\n",
    "      for i in xrange(valid_size):\n",
    "        valid_word = reverse_dictionary[valid_examples[i]]\n",
    "        top_k = 8 # number of nearest neighbors\n",
    "        nearest = (-sim[i, :]).argsort()[1:top_k+1]\n",
    "        log = 'Nearest to %s:' % valid_word\n",
    "        for k in xrange(top_k):\n",
    "          close_word = reverse_dictionary[nearest[k]]\n",
    "          log = '%s %s,' % (log, close_word)\n",
    "        print(log)\n",
    "  final_embeddings = normalized_embeddings.eval()"
   ]
  },
  {
   "cell_type": "code",
   "execution_count": 9,
   "metadata": {
    "cellView": "both",
    "colab": {
     "autoexec": {
      "startup": false,
      "wait_interval": 0
     }
    },
    "colab_type": "code",
    "collapsed": true,
    "id": "jjJXYA_XzV79"
   },
   "outputs": [],
   "source": [
    "num_points = 400\n",
    "\n",
    "tsne = TSNE(perplexity=30, n_components=2, init='pca', n_iter=5000)\n",
    "two_d_embeddings = tsne.fit_transform(final_embeddings[1:num_points+1, :])"
   ]
  },
  {
   "cell_type": "code",
   "execution_count": 10,
   "metadata": {
    "cellView": "both",
    "colab": {
     "autoexec": {
      "startup": false,
      "wait_interval": 0
     },
     "output_extras": [
      {
       "item_id": 1
      }
     ]
    },
    "colab_type": "code",
    "collapsed": false,
    "executionInfo": {
     "elapsed": 4763,
     "status": "ok",
     "timestamp": 1445965465525,
     "user": {
      "color": "#1FA15D",
      "displayName": "Vincent Vanhoucke",
      "isAnonymous": false,
      "isMe": true,
      "permissionId": "05076109866853157986",
      "photoUrl": "//lh6.googleusercontent.com/-cCJa7dTDcgQ/AAAAAAAAAAI/AAAAAAAACgw/r2EZ_8oYer4/s50-c-k-no/photo.jpg",
      "sessionId": "2f1ffade4c9f20de",
      "userId": "102167687554210253930"
     },
     "user_tz": 420
    },
    "id": "o_e0D_UezcDe",
    "outputId": "df22e4a5-e8ec-4e5e-d384-c6cf37c68c34"
   },
   "outputs": [],
   "source": [
    "def plot(embeddings, labels):\n",
    "  assert embeddings.shape[0] >= len(labels), 'More labels than embeddings'\n",
    "  pylab.figure(figsize=(15,15))  # in inches\n",
    "  for i, label in enumerate(labels):\n",
    "    x, y = embeddings[i,:]\n",
    "    pylab.scatter(x, y)\n",
    "    pylab.annotate(label, xy=(x, y), xytext=(5, 2), textcoords='offset points',\n",
    "                   ha='right', va='bottom')\n",
    "  pylab.show()\n",
    "\n",
    "words = [reverse_dictionary[i] for i in range(1, num_points+1)]\n",
    "plot(two_d_embeddings, words)"
   ]
  },
  {
   "cell_type": "markdown",
   "metadata": {
    "colab_type": "text",
    "id": "QB5EFrBnpNnc"
   },
   "source": [
    "---\n",
    "\n",
    "Problem\n",
    "-------\n",
    "\n",
    "An alternative to Word2Vec is called [CBOW](http://arxiv.org/abs/1301.3781) (Continuous Bag of Words). In the CBOW model, instead of predicting a context word from a word vector, you predict a word from the sum of all the word vectors in its context. Implement and evaluate a CBOW model trained on the text8 dataset.\n",
    "\n",
    "---"
   ]
  },
  {
   "cell_type": "code",
   "execution_count": 42,
   "metadata": {
    "collapsed": false
   },
   "outputs": [
    {
     "name": "stdout",
     "output_type": "stream",
     "text": [
      "train_dataset: (128,)\n",
      "train_labels: (128, 1)\n",
      "valid_dataset: (16,)\n",
      "embeddings: (50000, 128)\n",
      "softmax_weights: (50000, 128)\n",
      "softmax_biases: (50000,)\n",
      "embed: (128, 128)\n",
      "loss: ()\n",
      "norm: (50000, 1)\n",
      "normalized_embeddings: (50000, 128)\n",
      "valid_embeddings: (16, 128)\n",
      "similarity: (16, 50000)\n"
     ]
    }
   ],
   "source": [
    "batch_size = 128\n",
    "embedding_size = 128 # Dimension of the embedding vector.\n",
    "skip_window = 1 # How many words to consider left and right.\n",
    "num_skips = 2 # How many times to reuse an input to generate a label.\n",
    "# We pick a random validation set to sample nearest neighbors. here we limit the\n",
    "# validation samples to the words that have a low numeric ID, which by\n",
    "# construction are also the most frequent. \n",
    "valid_size = 16 # Random set of words to evaluate similarity on.\n",
    "valid_window = 100 # Only pick dev samples in the head of the distribution.\n",
    "valid_examples = np.array(random.sample(range(valid_window), valid_size))\n",
    "num_sampled = 64 # Number of negative examples to sample.\n",
    "\n",
    "graph = tf.Graph()\n",
    "\n",
    "with graph.as_default():\n",
    "\n",
    "    # Input data.\n",
    "    train_dataset = tf.placeholder(tf.int32, shape=[batch_size])\n",
    "    print('train_dataset:', train_dataset.get_shape())\n",
    "    train_labels = tf.placeholder(tf.int32, shape=[batch_size, 1])\n",
    "    print('train_labels:', train_labels.get_shape())\n",
    "    valid_dataset = tf.constant(valid_examples, dtype=tf.int32)\n",
    "    print('valid_dataset:', valid_dataset.get_shape())\n",
    "\n",
    "    # Variables.\n",
    "    embeddings = tf.Variable(tf.random_uniform([vocabulary_size, embedding_size], -1.0, 1.0))\n",
    "    print('embeddings:', embeddings.get_shape())\n",
    "    softmax_weights = tf.Variable(tf.truncated_normal([vocabulary_size, embedding_size],stddev=1.0 / math.sqrt(embedding_size)))\n",
    "    print('softmax_weights:', softmax_weights.get_shape())\n",
    "    softmax_biases = tf.Variable(tf.zeros([vocabulary_size]))\n",
    "    print('softmax_biases:', softmax_biases.get_shape())\n",
    "\n",
    "    # Model.\n",
    "    # Look up embeddings for inputs.\n",
    "    embed = tf.nn.embedding_lookup(embeddings, train_dataset)\n",
    "    print('embed:', embed.get_shape())\n",
    "    # Compute the softmax loss, using a sample of the negative labels each time.\n",
    "    loss = tf.reduce_mean(tf.nn.sampled_softmax_loss(softmax_weights, softmax_biases, embed,train_labels, num_sampled, vocabulary_size))\n",
    "    print('loss:', loss.get_shape())\n",
    "\n",
    "    # Optimizer.\n",
    "    optimizer = tf.train.AdagradOptimizer(1.0).minimize(loss)\n",
    " \n",
    "    # Compute the similarity between minibatch examples and all embeddings.\n",
    "    # We use the cosine distance:\n",
    "    norm = tf.sqrt(tf.reduce_sum(tf.square(embeddings), 1, keep_dims=True))\n",
    "    print('norm:', norm.get_shape())\n",
    "    normalized_embeddings = embeddings / norm # use normed embedding for the following inner product\n",
    "    print('normalized_embeddings:', normalized_embeddings.get_shape())\n",
    "    valid_embeddings = tf.nn.embedding_lookup(normalized_embeddings, valid_dataset) # get the embeddings of the words in valid set\n",
    "    print('valid_embeddings:', valid_embeddings.get_shape())\n",
    "    similarity = tf.matmul(valid_embeddings, tf.transpose(normalized_embeddings)) # calc the distance, each value denotes the similarity between two words\n",
    "    print('similarity:', similarity.get_shape())\n",
    "    # so in this case, the weights and bias are not needed for the appliation. The only thing it needs is just the embeddings. "
   ]
  },
  {
   "cell_type": "code",
   "execution_count": 41,
   "metadata": {
    "collapsed": false
   },
   "outputs": [
    {
     "name": "stdout",
     "output_type": "stream",
     "text": [
      "Initialized\n",
      "Average loss at step 0: 7.707431\n",
      "Nearest to states: helvetii, ave, rhetorician, yes, akiva, grimoire, event, khanates,\n",
      "Nearest to three: coalition, biomechanics, sympathized, medes, autonomy, augmenting, zander, daniel,\n",
      "Nearest to more: esquire, koffice, endpoints, reopen, harlequin, fiorentina, shambles, handlebar,\n",
      "Nearest to this: khaki, ferranti, fingerspelling, barada, amex, aai, gurus, fleury,\n",
      "Nearest to been: subroutine, seeing, ism, pointing, outdated, mcmillan, murdoc, saronic,\n",
      "Nearest to other: deceived, reasons, ghent, telecommunications, kenning, minuscule, tutti, bayezid,\n",
      "Nearest to between: meritorious, bland, remarkably, obi, sem, fath, hunt, ticino,\n",
      "Nearest to world: aeacus, batsman, modalities, jubal, brewers, upu, arcology, story,\n",
      "Nearest to on: skepticism, hesitant, lick, live, mischievous, lamont, datatypes, ocular,\n",
      "Nearest to in: forges, eridanus, setbacks, bernese, tantric, keeps, geezer, niels,\n",
      "Nearest to which: recycling, mancini, jumaada, swelled, apostolic, storing, crystals, manslaughter,\n",
      "Nearest to had: cures, erodes, death, lithuania, schumpeter, appreciative, legation, expositor,\n",
      "Nearest to as: shorthair, vet, vibrational, jumaada, imaginative, basque, mgh, millimetres,\n",
      "Nearest to not: lifecycle, bunnies, tried, auspices, rooftop, barre, quaestor, rwanda,\n",
      "Nearest to over: kanji, north, slovaks, jolley, worries, news, salvadoran, presented,\n",
      "Nearest to many: bile, subscribers, tank, engineers, ailey, caterpillars, redress, huike,\n",
      "Average loss at step 2000: 4.337107\n",
      "Average loss at step 4000: 3.896271\n",
      "Average loss at step 6000: 3.775486\n",
      "Average loss at step 8000: 3.649069\n",
      "Average loss at step 10000: 3.656955\n",
      "Nearest to states: bartolommeo, abaye, truly, discriminating, nations, rhetorician, eglise, leadership,\n",
      "Nearest to three: four, six, seven, five, eight, two, nine, zero,\n",
      "Nearest to more: geschichte, correspondences, esquire, admission, orchestrated, uterus, litigation, koffice,\n",
      "Nearest to this: the, it, a, which, yakovlev, krone, pe, her,\n",
      "Nearest to been: was, subroutine, pointing, recompilation, choruses, ism, rhymed, hype,\n",
      "Nearest to other: deceived, many, these, various, instructors, reasons, sanctuaries, abidjan,\n",
      "Nearest to between: from, meritorious, first, remarkably, to, bland, sem, jng,\n",
      "Nearest to world: story, aeacus, modalities, gallen, batsman, policing, comparable, tabulate,\n",
      "Nearest to on: upon, against, monogram, necked, haka, angelos, amongst, amx,\n",
      "Nearest to in: by, within, from, at, torvalds, aaa, uninterrupted, chevron,\n",
      "Nearest to which: that, it, recycling, also, heimskringla, deemed, this, there,\n",
      "Nearest to had: has, have, was, were, synchronised, tunis, mallory, jewellery,\n",
      "Nearest to as: demiurge, ivar, igg, keralite, by, with, liberian, madeira,\n",
      "Nearest to not: they, sometimes, also, parametric, there, suv, auspices, bunnies,\n",
      "Nearest to over: news, construction, commonly, gaeilge, worries, lebanese, presented, sow,\n",
      "Nearest to many: some, engineers, ailey, fred, kaist, other, others, documentary,\n",
      "Average loss at step 12000: 3.621005\n",
      "Average loss at step 14000: 3.439935\n",
      "Average loss at step 16000: 3.463780\n",
      "Average loss at step 18000: 3.534803\n",
      "Average loss at step 20000: 3.528445\n",
      "Nearest to states: nations, peano, truly, precolonial, bartolommeo, rhetorician, abaye, geometer,\n",
      "Nearest to three: four, two, eight, five, seven, six, zero, nine,\n",
      "Nearest to more: less, most, admission, very, correspondences, esquire, litigation, uterus,\n",
      "Nearest to this: it, the, which, that, some, its, a, gyroscopic,\n",
      "Nearest to been: be, was, become, helped, choruses, had, were, by,\n",
      "Nearest to other: these, many, various, cosmological, different, such, including, vizier,\n",
      "Nearest to between: from, with, meritorious, first, emanation, bland, remarkably, dante,\n",
      "Nearest to world: story, aeacus, bridging, tabulate, modalities, gallen, policing, udma,\n",
      "Nearest to on: in, upon, angelos, through, against, at, elysium, about,\n",
      "Nearest to in: at, on, and, by, with, from, during, eridanus,\n",
      "Nearest to which: that, this, also, who, it, there, and, but,\n",
      "Nearest to had: has, have, was, were, having, mallory, tunis, respectable,\n",
      "Nearest to as: demiurge, ffts, be, deus, in, shorthair, by, gorgon,\n",
      "Nearest to not: suv, they, it, sometimes, trivia, also, still, auspices,\n",
      "Nearest to over: news, gaeilge, ecliptic, lebanese, construction, worries, landtag, afterthought,\n",
      "Nearest to many: some, other, several, these, others, documentary, kaist, nurture,\n",
      "Average loss at step 22000: 3.511253\n",
      "Average loss at step 24000: 3.468507\n",
      "Average loss at step 26000: 3.511783\n",
      "Average loss at step 28000: 3.504965\n",
      "Average loss at step 30000: 3.517407\n",
      "Nearest to states: nations, lvares, precolonial, beneficent, abaye, bartolommeo, peano, leadership,\n",
      "Nearest to three: five, four, eight, seven, six, nine, two, zero,\n",
      "Nearest to more: less, most, very, extremely, fretting, larger, rather, litigation,\n",
      "Nearest to this: it, which, that, improvisation, another, krone, its, some,\n",
      "Nearest to been: become, be, were, was, had, helped, puppets, by,\n",
      "Nearest to other: cosmological, many, different, various, these, such, castell, nutrient,\n",
      "Nearest to between: with, from, in, meritorious, presley, kaleidoscope, latinate, braille,\n",
      "Nearest to world: aeacus, story, bridging, intruder, modalities, vox, gallen, tabulate,\n",
      "Nearest to on: upon, in, through, from, against, monogram, affirms, amongst,\n",
      "Nearest to in: at, on, from, and, within, scala, during, of,\n",
      "Nearest to which: this, who, that, but, also, it, there, heimskringla,\n",
      "Nearest to had: has, have, was, were, having, been, incan, is,\n",
      "Nearest to as: by, pitts, encircling, after, under, prototyping, suggestions, barrelled,\n",
      "Nearest to not: suv, sometimes, they, still, it, often, bulb, wrecking,\n",
      "Nearest to over: ecliptic, gaeilge, worries, afterthought, news, landtag, fecture, ratites,\n",
      "Nearest to many: some, several, these, other, various, most, their, all,\n",
      "Average loss at step 32000: 3.494242\n",
      "Average loss at step 34000: 3.487587\n",
      "Average loss at step 36000: 3.266215\n",
      "Average loss at step 38000: 3.483729\n",
      "Average loss at step 40000: 3.422022\n",
      "Nearest to states: nations, precolonial, kingdom, leadership, countries, impurities, erase, proclaiming,\n",
      "Nearest to three: four, five, six, two, seven, eight, nine, zero,\n",
      "Nearest to more: less, most, very, larger, rather, extremely, too, draper,\n",
      "Nearest to this: which, it, another, the, some, that, any, despised,\n",
      "Nearest to been: become, be, was, helped, were, being, dicots, pointing,\n",
      "Nearest to other: different, various, some, many, these, cosmological, bulbs, abidjan,\n",
      "Nearest to between: with, from, in, kaleidoscope, ramanujan, accuse, biggest, firstborn,\n",
      "Nearest to world: aeacus, bridging, intruder, modalities, tabulate, arbitration, eduard, policing,\n",
      "Nearest to on: upon, in, against, eeeeee, at, during, about, stays,\n",
      "Nearest to in: at, on, within, of, eridanus, during, between, tar,\n",
      "Nearest to which: that, this, also, who, it, but, these, there,\n",
      "Nearest to had: has, have, was, were, synchronised, did, incan, became,\n",
      "Nearest to as: demiurge, pitts, pontius, clementine, ffts, northwards, interracial, suggestions,\n",
      "Nearest to not: they, suv, sometimes, it, still, wrecking, dunbar, mythos,\n",
      "Nearest to over: ecliptic, worries, reach, followers, ratites, kaufman, off, genealogies,\n",
      "Nearest to many: some, several, these, various, other, their, both, those,\n",
      "Average loss at step 42000: 3.462295\n",
      "Average loss at step 44000: 3.435814\n",
      "Average loss at step 46000: 3.401646\n",
      "Average loss at step 48000: 3.374654\n",
      "Average loss at step 50000: 3.394701\n",
      "Nearest to states: nations, kingdom, precolonial, peano, impurities, intercity, skier, erase,\n",
      "Nearest to three: two, six, five, eight, four, nine, seven, zero,\n",
      "Nearest to more: less, most, extremely, very, rather, too, draper, larger,\n",
      "Nearest to this: which, it, the, some, another, there, any, that,\n",
      "Nearest to been: become, be, was, dicots, being, helped, had, enjoyed,\n",
      "Nearest to other: various, different, many, these, some, smaller, aoe, sanctuaries,\n",
      "Nearest to between: with, from, in, kaleidoscope, surrounding, biggest, selberg, firstborn,\n",
      "Nearest to world: aeacus, tabulate, eduard, intruder, bridging, story, waldseem, directive,\n",
      "Nearest to on: upon, in, at, stays, against, through, elysium, partit,\n",
      "Nearest to in: during, at, on, within, with, bail, by, archipelago,\n",
      "Nearest to which: that, this, who, also, but, often, still, tissue,\n",
      "Nearest to had: has, have, was, were, did, having, initio, been,\n",
      "Nearest to as: ffts, mariana, liberian, ivar, iwo, ignited, when, userland,\n",
      "Nearest to not: they, suv, still, now, almost, sometimes, deserve, agadir,\n",
      "Nearest to over: ecliptic, through, worries, off, czar, reach, ardal, boka,\n",
      "Nearest to many: some, several, these, various, other, most, both, all,\n",
      "Average loss at step 52000: 3.422309\n",
      "Average loss at step 54000: 3.459943\n",
      "Average loss at step 56000: 3.383457\n",
      "Average loss at step 58000: 3.425644\n"
     ]
    },
    {
     "ename": "KeyboardInterrupt",
     "evalue": "",
     "output_type": "error",
     "traceback": [
      "\u001b[1;31m---------------------------------------------------------------------------\u001b[0m",
      "\u001b[1;31mKeyboardInterrupt\u001b[0m                         Traceback (most recent call last)",
      "\u001b[1;32m<ipython-input-41-5c3d79c1def6>\u001b[0m in \u001b[0;36m<module>\u001b[1;34m()\u001b[0m\n\u001b[0;32m      8\u001b[0m     \u001b[0mbatch_data\u001b[0m\u001b[1;33m,\u001b[0m \u001b[0mbatch_labels\u001b[0m \u001b[1;33m=\u001b[0m \u001b[0mgenerate_batch\u001b[0m\u001b[1;33m(\u001b[0m\u001b[0mbatch_size\u001b[0m\u001b[1;33m,\u001b[0m \u001b[0mnum_skips\u001b[0m\u001b[1;33m,\u001b[0m \u001b[0mskip_window\u001b[0m\u001b[1;33m)\u001b[0m\u001b[1;33m\u001b[0m\u001b[0m\n\u001b[0;32m      9\u001b[0m     \u001b[0mfeed_dict\u001b[0m \u001b[1;33m=\u001b[0m \u001b[1;33m{\u001b[0m\u001b[0mtrain_dataset\u001b[0m \u001b[1;33m:\u001b[0m \u001b[0mbatch_data\u001b[0m\u001b[1;33m,\u001b[0m \u001b[0mtrain_labels\u001b[0m \u001b[1;33m:\u001b[0m \u001b[0mbatch_labels\u001b[0m\u001b[1;33m}\u001b[0m\u001b[1;33m\u001b[0m\u001b[0m\n\u001b[1;32m---> 10\u001b[1;33m     \u001b[0m_\u001b[0m\u001b[1;33m,\u001b[0m \u001b[0ml\u001b[0m \u001b[1;33m=\u001b[0m \u001b[0msession\u001b[0m\u001b[1;33m.\u001b[0m\u001b[0mrun\u001b[0m\u001b[1;33m(\u001b[0m\u001b[1;33m[\u001b[0m\u001b[0moptimizer\u001b[0m\u001b[1;33m,\u001b[0m \u001b[0mloss\u001b[0m\u001b[1;33m]\u001b[0m\u001b[1;33m,\u001b[0m \u001b[0mfeed_dict\u001b[0m\u001b[1;33m=\u001b[0m\u001b[0mfeed_dict\u001b[0m\u001b[1;33m)\u001b[0m\u001b[1;33m\u001b[0m\u001b[0m\n\u001b[0m\u001b[0;32m     11\u001b[0m \u001b[1;33m\u001b[0m\u001b[0m\n\u001b[0;32m     12\u001b[0m     \u001b[0maverage_loss\u001b[0m \u001b[1;33m+=\u001b[0m \u001b[0ml\u001b[0m\u001b[1;33m\u001b[0m\u001b[0m\n",
      "\u001b[1;32m/usr/local/lib/python2.7/dist-packages/tensorflow/python/client/session.pyc\u001b[0m in \u001b[0;36mrun\u001b[1;34m(self, fetches, feed_dict)\u001b[0m\n\u001b[0;32m    313\u001b[0m         \u001b[1;33m`\u001b[0m\u001b[0mTensor\u001b[0m\u001b[1;33m`\u001b[0m \u001b[0mthat\u001b[0m \u001b[0mdoesn\u001b[0m\u001b[0;31m'\u001b[0m\u001b[0mt\u001b[0m \u001b[0mexist\u001b[0m\u001b[1;33m.\u001b[0m\u001b[1;33m\u001b[0m\u001b[0m\n\u001b[0;32m    314\u001b[0m     \"\"\"\n\u001b[1;32m--> 315\u001b[1;33m     \u001b[1;32mreturn\u001b[0m \u001b[0mself\u001b[0m\u001b[1;33m.\u001b[0m\u001b[0m_run\u001b[0m\u001b[1;33m(\u001b[0m\u001b[0mNone\u001b[0m\u001b[1;33m,\u001b[0m \u001b[0mfetches\u001b[0m\u001b[1;33m,\u001b[0m \u001b[0mfeed_dict\u001b[0m\u001b[1;33m)\u001b[0m\u001b[1;33m\u001b[0m\u001b[0m\n\u001b[0m\u001b[0;32m    316\u001b[0m \u001b[1;33m\u001b[0m\u001b[0m\n\u001b[0;32m    317\u001b[0m   \u001b[1;32mdef\u001b[0m \u001b[0mpartial_run\u001b[0m\u001b[1;33m(\u001b[0m\u001b[0mself\u001b[0m\u001b[1;33m,\u001b[0m \u001b[0mhandle\u001b[0m\u001b[1;33m,\u001b[0m \u001b[0mfetches\u001b[0m\u001b[1;33m,\u001b[0m \u001b[0mfeed_dict\u001b[0m\u001b[1;33m=\u001b[0m\u001b[0mNone\u001b[0m\u001b[1;33m)\u001b[0m\u001b[1;33m:\u001b[0m\u001b[1;33m\u001b[0m\u001b[0m\n",
      "\u001b[1;32m/usr/local/lib/python2.7/dist-packages/tensorflow/python/client/session.pyc\u001b[0m in \u001b[0;36m_run\u001b[1;34m(self, handle, fetches, feed_dict)\u001b[0m\n\u001b[0;32m    509\u001b[0m     \u001b[1;31m# Run request and get response.\u001b[0m\u001b[1;33m\u001b[0m\u001b[1;33m\u001b[0m\u001b[0m\n\u001b[0;32m    510\u001b[0m     results = self._do_run(handle, target_list, unique_fetches,\n\u001b[1;32m--> 511\u001b[1;33m                            feed_dict_string)\n\u001b[0m\u001b[0;32m    512\u001b[0m \u001b[1;33m\u001b[0m\u001b[0m\n\u001b[0;32m    513\u001b[0m     \u001b[1;31m# User may have fetched the same tensor multiple times, but we\u001b[0m\u001b[1;33m\u001b[0m\u001b[1;33m\u001b[0m\u001b[0m\n",
      "\u001b[1;32m/usr/local/lib/python2.7/dist-packages/tensorflow/python/client/session.pyc\u001b[0m in \u001b[0;36m_do_run\u001b[1;34m(self, handle, target_list, fetch_list, feed_dict)\u001b[0m\n\u001b[0;32m    562\u001b[0m     \u001b[1;32mif\u001b[0m \u001b[0mhandle\u001b[0m \u001b[1;32mis\u001b[0m \u001b[0mNone\u001b[0m\u001b[1;33m:\u001b[0m\u001b[1;33m\u001b[0m\u001b[0m\n\u001b[0;32m    563\u001b[0m       return self._do_call(_run_fn, self._session, feed_dict, fetch_list,\n\u001b[1;32m--> 564\u001b[1;33m                            target_list)\n\u001b[0m\u001b[0;32m    565\u001b[0m     \u001b[1;32melse\u001b[0m\u001b[1;33m:\u001b[0m\u001b[1;33m\u001b[0m\u001b[0m\n\u001b[0;32m    566\u001b[0m       return self._do_call(_prun_fn, self._session, handle, feed_dict,\n",
      "\u001b[1;32m/usr/local/lib/python2.7/dist-packages/tensorflow/python/client/session.pyc\u001b[0m in \u001b[0;36m_do_call\u001b[1;34m(self, fn, *args)\u001b[0m\n\u001b[0;32m    569\u001b[0m   \u001b[1;32mdef\u001b[0m \u001b[0m_do_call\u001b[0m\u001b[1;33m(\u001b[0m\u001b[0mself\u001b[0m\u001b[1;33m,\u001b[0m \u001b[0mfn\u001b[0m\u001b[1;33m,\u001b[0m \u001b[1;33m*\u001b[0m\u001b[0margs\u001b[0m\u001b[1;33m)\u001b[0m\u001b[1;33m:\u001b[0m\u001b[1;33m\u001b[0m\u001b[0m\n\u001b[0;32m    570\u001b[0m     \u001b[1;32mtry\u001b[0m\u001b[1;33m:\u001b[0m\u001b[1;33m\u001b[0m\u001b[0m\n\u001b[1;32m--> 571\u001b[1;33m       \u001b[1;32mreturn\u001b[0m \u001b[0mfn\u001b[0m\u001b[1;33m(\u001b[0m\u001b[1;33m*\u001b[0m\u001b[0margs\u001b[0m\u001b[1;33m)\u001b[0m\u001b[1;33m\u001b[0m\u001b[0m\n\u001b[0m\u001b[0;32m    572\u001b[0m     \u001b[1;32mexcept\u001b[0m \u001b[0mtf_session\u001b[0m\u001b[1;33m.\u001b[0m\u001b[0mStatusNotOK\u001b[0m \u001b[1;32mas\u001b[0m \u001b[0me\u001b[0m\u001b[1;33m:\u001b[0m\u001b[1;33m\u001b[0m\u001b[0m\n\u001b[0;32m    573\u001b[0m       \u001b[0me_type\u001b[0m\u001b[1;33m,\u001b[0m \u001b[0me_value\u001b[0m\u001b[1;33m,\u001b[0m \u001b[0me_traceback\u001b[0m \u001b[1;33m=\u001b[0m \u001b[0msys\u001b[0m\u001b[1;33m.\u001b[0m\u001b[0mexc_info\u001b[0m\u001b[1;33m(\u001b[0m\u001b[1;33m)\u001b[0m\u001b[1;33m\u001b[0m\u001b[0m\n",
      "\u001b[1;32m/usr/local/lib/python2.7/dist-packages/tensorflow/python/client/session.pyc\u001b[0m in \u001b[0;36m_run_fn\u001b[1;34m(session, feed_dict, fetch_list, target_list)\u001b[0m\n\u001b[0;32m    553\u001b[0m       \u001b[1;31m# Ensure any changes to the graph are reflected in the runtime.\u001b[0m\u001b[1;33m\u001b[0m\u001b[1;33m\u001b[0m\u001b[0m\n\u001b[0;32m    554\u001b[0m       \u001b[0mself\u001b[0m\u001b[1;33m.\u001b[0m\u001b[0m_extend_graph\u001b[0m\u001b[1;33m(\u001b[0m\u001b[1;33m)\u001b[0m\u001b[1;33m\u001b[0m\u001b[0m\n\u001b[1;32m--> 555\u001b[1;33m       \u001b[1;32mreturn\u001b[0m \u001b[0mtf_session\u001b[0m\u001b[1;33m.\u001b[0m\u001b[0mTF_Run\u001b[0m\u001b[1;33m(\u001b[0m\u001b[0msession\u001b[0m\u001b[1;33m,\u001b[0m \u001b[0mfeed_dict\u001b[0m\u001b[1;33m,\u001b[0m \u001b[0mfetch_list\u001b[0m\u001b[1;33m,\u001b[0m \u001b[0mtarget_list\u001b[0m\u001b[1;33m)\u001b[0m\u001b[1;33m\u001b[0m\u001b[0m\n\u001b[0m\u001b[0;32m    556\u001b[0m \u001b[1;33m\u001b[0m\u001b[0m\n\u001b[0;32m    557\u001b[0m     \u001b[1;32mdef\u001b[0m \u001b[0m_prun_fn\u001b[0m\u001b[1;33m(\u001b[0m\u001b[0msession\u001b[0m\u001b[1;33m,\u001b[0m \u001b[0mhandle\u001b[0m\u001b[1;33m,\u001b[0m \u001b[0mfeed_dict\u001b[0m\u001b[1;33m,\u001b[0m \u001b[0mfetch_list\u001b[0m\u001b[1;33m)\u001b[0m\u001b[1;33m:\u001b[0m\u001b[1;33m\u001b[0m\u001b[0m\n",
      "\u001b[1;31mKeyboardInterrupt\u001b[0m: "
     ]
    }
   ],
   "source": [
    "num_steps = 100001\n",
    "\n",
    "with tf.Session(graph=graph) as session:\n",
    "  tf.initialize_all_variables().run()\n",
    "  print('Initialized')\n",
    "  average_loss = 0\n",
    "  for step in range(num_steps):\n",
    "    batch_data, batch_labels = generate_batch(batch_size, num_skips, skip_window)\n",
    "    feed_dict = {train_dataset : batch_data, train_labels : batch_labels}\n",
    "    _, l = session.run([optimizer, loss], feed_dict=feed_dict)\n",
    "    \n",
    "    average_loss += l\n",
    "    if step % 2000 == 0:\n",
    "      if step > 0:\n",
    "        average_loss = average_loss / 2000\n",
    "      # The average loss is an estimate of the loss over the last 2000 batches.\n",
    "      print('Average loss at step %d: %f' % (step, average_loss))\n",
    "      average_loss = 0\n",
    "    \n",
    "    # note that this is expensive (~20% slowdown if computed every 500 steps)\n",
    "    if step % 10000 == 0:\n",
    "      sim = similarity.eval()\n",
    "      for i in xrange(valid_size):\n",
    "        valid_word = reverse_dictionary[valid_examples[i]]\n",
    "        top_k = 8 # number of nearest neighbors\n",
    "        nearest = (-sim[i, :]).argsort()[1:top_k+1]\n",
    "        log = 'Nearest to %s:' % valid_word\n",
    "        for k in xrange(top_k):\n",
    "          close_word = reverse_dictionary[nearest[k]]\n",
    "          log = '%s %s,' % (log, close_word)\n",
    "        print(log)\n",
    "  final_embeddings = normalized_embeddings.eval()"
   ]
  }
 ],
 "metadata": {
  "colab": {
   "default_view": {},
   "name": "5_word2vec.ipynb",
   "provenance": [],
   "version": "0.3.2",
   "views": {}
  },
  "kernelspec": {
   "display_name": "Python 2",
   "language": "python",
   "name": "python2"
  },
  "language_info": {
   "codemirror_mode": {
    "name": "ipython",
    "version": 2
   },
   "file_extension": ".py",
   "mimetype": "text/x-python",
   "name": "python",
   "nbconvert_exporter": "python",
   "pygments_lexer": "ipython2",
   "version": "2.7.6"
  }
 },
 "nbformat": 4,
 "nbformat_minor": 0
}
