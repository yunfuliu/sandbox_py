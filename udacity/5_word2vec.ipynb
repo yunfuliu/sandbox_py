{
 "cells": [
  {
   "cell_type": "markdown",
   "metadata": {
    "colab_type": "text",
    "id": "D7tqLMoKF6uq"
   },
   "source": [
    "Deep Learning\n",
    "=============\n",
    "\n",
    "Assignment 5\n",
    "------------\n",
    "\n",
    "The goal of this assignment is to train a skip-gram model over [Text8](http://mattmahoney.net/dc/textdata) data."
   ]
  },
  {
   "cell_type": "code",
   "execution_count": 1,
   "metadata": {
    "cellView": "both",
    "colab": {
     "autoexec": {
      "startup": false,
      "wait_interval": 0
     }
    },
    "colab_type": "code",
    "collapsed": true,
    "id": "0K1ZyLn04QZf"
   },
   "outputs": [],
   "source": [
    "# These are all the modules we'll be using later. Make sure you can import them\n",
    "# before proceeding further.\n",
    "from __future__ import print_function\n",
    "import collections\n",
    "import math\n",
    "import numpy as np\n",
    "import os\n",
    "import random\n",
    "import tensorflow as tf\n",
    "import zipfile\n",
    "from matplotlib import pylab\n",
    "from six.moves import range\n",
    "from six.moves.urllib.request import urlretrieve\n",
    "from sklearn.manifold import TSNE"
   ]
  },
  {
   "cell_type": "markdown",
   "metadata": {
    "colab_type": "text",
    "id": "aCjPJE944bkV"
   },
   "source": [
    "Download the data from the source website if necessary."
   ]
  },
  {
   "cell_type": "code",
   "execution_count": 2,
   "metadata": {
    "cellView": "both",
    "colab": {
     "autoexec": {
      "startup": false,
      "wait_interval": 0
     },
     "output_extras": [
      {
       "item_id": 1
      }
     ]
    },
    "colab_type": "code",
    "collapsed": false,
    "executionInfo": {
     "elapsed": 14640,
     "status": "ok",
     "timestamp": 1445964482948,
     "user": {
      "color": "#1FA15D",
      "displayName": "Vincent Vanhoucke",
      "isAnonymous": false,
      "isMe": true,
      "permissionId": "05076109866853157986",
      "photoUrl": "//lh6.googleusercontent.com/-cCJa7dTDcgQ/AAAAAAAAAAI/AAAAAAAACgw/r2EZ_8oYer4/s50-c-k-no/photo.jpg",
      "sessionId": "2f1ffade4c9f20de",
      "userId": "102167687554210253930"
     },
     "user_tz": 420
    },
    "id": "RJ-o3UBUFtCw",
    "outputId": "c4ec222c-80b5-4298-e635-93ca9f79c3b7"
   },
   "outputs": [
    {
     "name": "stdout",
     "output_type": "stream",
     "text": [
      "Found and verified text8.zip\n"
     ]
    }
   ],
   "source": [
    "url = 'http://mattmahoney.net/dc/'\n",
    "\n",
    "def maybe_download(filename, expected_bytes):\n",
    "  \"\"\"Download a file if not present, and make sure it's the right size.\"\"\"\n",
    "  if not os.path.exists(filename):\n",
    "    filename, _ = urlretrieve(url + filename, filename)\n",
    "  statinfo = os.stat(filename)\n",
    "  if statinfo.st_size == expected_bytes:\n",
    "    print('Found and verified %s' % filename)\n",
    "  else:\n",
    "    print(statinfo.st_size)\n",
    "    raise Exception(\n",
    "      'Failed to verify ' + filename + '. Can you get to it with a browser?')\n",
    "  return filename\n",
    "\n",
    "filename = maybe_download('text8.zip', 31344016)"
   ]
  },
  {
   "cell_type": "markdown",
   "metadata": {
    "colab_type": "text",
    "id": "Zqz3XiqI4mZT"
   },
   "source": [
    "Read the data into a string."
   ]
  },
  {
   "cell_type": "code",
   "execution_count": 3,
   "metadata": {
    "cellView": "both",
    "colab": {
     "autoexec": {
      "startup": false,
      "wait_interval": 0
     },
     "output_extras": [
      {
       "item_id": 1
      }
     ]
    },
    "colab_type": "code",
    "collapsed": false,
    "executionInfo": {
     "elapsed": 28844,
     "status": "ok",
     "timestamp": 1445964497165,
     "user": {
      "color": "#1FA15D",
      "displayName": "Vincent Vanhoucke",
      "isAnonymous": false,
      "isMe": true,
      "permissionId": "05076109866853157986",
      "photoUrl": "//lh6.googleusercontent.com/-cCJa7dTDcgQ/AAAAAAAAAAI/AAAAAAAACgw/r2EZ_8oYer4/s50-c-k-no/photo.jpg",
      "sessionId": "2f1ffade4c9f20de",
      "userId": "102167687554210253930"
     },
     "user_tz": 420
    },
    "id": "Mvf09fjugFU_",
    "outputId": "e3a928b4-1645-4fe8-be17-fcf47de5716d"
   },
   "outputs": [
    {
     "name": "stdout",
     "output_type": "stream",
     "text": [
      "Data size 17005207\n"
     ]
    }
   ],
   "source": [
    "def read_data(filename):\n",
    "  f = zipfile.ZipFile(filename)\n",
    "  for name in f.namelist():\n",
    "    return tf.compat.as_str(f.read(name)).split()\n",
    "  f.close()\n",
    "  \n",
    "words = read_data(filename)\n",
    "print('Data size %d' % len(words))"
   ]
  },
  {
   "cell_type": "markdown",
   "metadata": {
    "colab_type": "text",
    "id": "Zdw6i4F8glpp"
   },
   "source": [
    "Build the dictionary and replace rare words with UNK token."
   ]
  },
  {
   "cell_type": "code",
   "execution_count": 6,
   "metadata": {
    "cellView": "both",
    "colab": {
     "autoexec": {
      "startup": false,
      "wait_interval": 0
     },
     "output_extras": [
      {
       "item_id": 1
      }
     ]
    },
    "colab_type": "code",
    "collapsed": false,
    "executionInfo": {
     "elapsed": 28849,
     "status": "ok",
     "timestamp": 1445964497178,
     "user": {
      "color": "#1FA15D",
      "displayName": "Vincent Vanhoucke",
      "isAnonymous": false,
      "isMe": true,
      "permissionId": "05076109866853157986",
      "photoUrl": "//lh6.googleusercontent.com/-cCJa7dTDcgQ/AAAAAAAAAAI/AAAAAAAACgw/r2EZ_8oYer4/s50-c-k-no/photo.jpg",
      "sessionId": "2f1ffade4c9f20de",
      "userId": "102167687554210253930"
     },
     "user_tz": 420
    },
    "id": "gAL1EECXeZsD",
    "outputId": "3fb4ecd1-df67-44b6-a2dc-2291730970b2"
   },
   "outputs": [
    {
     "name": "stdout",
     "output_type": "stream",
     "text": [
      "Most common words (+UNK) [['UNK', 418391], ('the', 1061396), ('of', 593677), ('and', 416629), ('one', 411764)]\n",
      "Sample data [5239, 3084, 12, 6, 195, 2, 3137, 46, 59, 156]\n"
     ]
    }
   ],
   "source": [
    "vocabulary_size = 50000\n",
    "\n",
    "def build_dataset(words):\n",
    "  count = [['UNK', -1]]\n",
    "  count.extend(collections.Counter(words).most_common(vocabulary_size - 1))\n",
    "  dictionary = dict()\n",
    "  for word, _ in count:\n",
    "    dictionary[word] = len(dictionary)\n",
    "  data = list()\n",
    "  unk_count = 0\n",
    "  for word in words:\n",
    "    if word in dictionary:\n",
    "      index = dictionary[word]\n",
    "    else:\n",
    "      index = 0  # dictionary['UNK']\n",
    "      unk_count = unk_count + 1\n",
    "    data.append(index)\n",
    "  count[0][1] = unk_count\n",
    "  reverse_dictionary = dict(zip(dictionary.values(), dictionary.keys())) \n",
    "  return data, count, dictionary, reverse_dictionary\n",
    "\n",
    "data, count, dictionary, reverse_dictionary = build_dataset(words)\n",
    "print('Most common words (+UNK)', count[:5])\n",
    "print('Sample data', data[:10])\n",
    "del words  # Hint to reduce memory."
   ]
  },
  {
   "cell_type": "code",
   "execution_count": 66,
   "metadata": {
    "collapsed": false
   },
   "outputs": [
    {
     "name": "stdout",
     "output_type": "stream",
     "text": [
      "<type 'list'> 17005207\n",
      "<type 'list'> 50000\n",
      "<type 'dict'> 50000\n",
      "<type 'dict'> 50000\n",
      "word: [of]->  2\n",
      "word: [2]->  of\n",
      "idx: 0 -> 5239 ['UNK', 418391]\n",
      "idx: 1 -> 3084 ('the', 1061396)\n",
      "idx: 2 -> 12 ('of', 593677)\n",
      "idx: 3 -> 6 ('and', 416629)\n",
      "idx: 4 -> 195 ('one', 411764)\n",
      "idx: 5 -> 2 ('in', 372201)\n",
      "idx: 6 -> 3137 ('a', 325873)\n",
      "idx: 7 -> 46 ('to', 316376)\n",
      "idx: 8 -> 59 ('zero', 264975)\n",
      "idx: 9 -> 156 ('nine', 250430)\n"
     ]
    }
   ],
   "source": [
    "print(type(data), len(data)) # 'word index' of each word in the entire 'words' data. the 'word index' is defined in 'dictionary' \n",
    "print(type(count), len(count)) # contains words and their counts, i.e., ('of', 593677).\n",
    "print(type(dictionary), len(dictionary)) # use 'word' to find its 'ranked index'\n",
    "print(type(reverse_dictionary), len(reverse_dictionary)) # use 'ranked index' to find its 'word'\n",
    "\n",
    "word_text = 'of'\n",
    "print('word: [%s]-> '%word_text, dictionary[word_text])\n",
    "word_text = 2\n",
    "print('word: [%s]-> '%word_text, reverse_dictionary[word_text])\n",
    "\n",
    "for word_idx in range(10):\n",
    "    print('idx:', word_idx, '->', data[word_idx], count[word_idx])\n"
   ]
  },
  {
   "cell_type": "markdown",
   "metadata": {
    "colab_type": "text",
    "id": "lFwoyygOmWsL"
   },
   "source": [
    "Function to generate a training batch for the skip-gram model."
   ]
  },
  {
   "cell_type": "code",
   "execution_count": 137,
   "metadata": {
    "cellView": "both",
    "colab": {
     "autoexec": {
      "startup": false,
      "wait_interval": 0
     },
     "output_extras": [
      {
       "item_id": 1
      }
     ]
    },
    "colab_type": "code",
    "collapsed": false,
    "executionInfo": {
     "elapsed": 113,
     "status": "ok",
     "timestamp": 1445964901989,
     "user": {
      "color": "#1FA15D",
      "displayName": "Vincent Vanhoucke",
      "isAnonymous": false,
      "isMe": true,
      "permissionId": "05076109866853157986",
      "photoUrl": "//lh6.googleusercontent.com/-cCJa7dTDcgQ/AAAAAAAAAAI/AAAAAAAACgw/r2EZ_8oYer4/s50-c-k-no/photo.jpg",
      "sessionId": "2f1ffade4c9f20de",
      "userId": "102167687554210253930"
     },
     "user_tz": 420
    },
    "id": "w9APjA-zmfjV",
    "outputId": "67cccb02-cdaf-4e47-d489-43bcc8d57bb8"
   },
   "outputs": [
    {
     "name": "stdout",
     "output_type": "stream",
     "text": [
      "data: ['anarchism', 'originated', 'as', 'a', 'term', 'of', 'abuse', 'first']\n",
      "\n",
      "with num_skips = 2 and skip_window = 1:\n",
      "    batch: ['originated', 'originated', 'as', 'as', 'a', 'a', 'term', 'term']\n",
      "    labels: ['as', 'anarchism', 'originated', 'a', 'term', 'as', 'of', 'a']\n",
      "\n",
      "with num_skips = 4 and skip_window = 2:\n",
      "    batch: ['as', 'as', 'as', 'as', 'a', 'a', 'a', 'a']\n",
      "    labels: ['anarchism', 'term', 'a', 'originated', 'term', 'of', 'originated', 'as']\n"
     ]
    }
   ],
   "source": [
    "data_index = 0\n",
    "\n",
    "# batch: center `word`\n",
    "# labels: `label[a]` is the neighboring word around the center word `batch[a]`\n",
    "\n",
    "def generate_batch(batch_size, num_skips, skip_window):\n",
    "    # batch_size: one independent segment. All the processes are in this batch. \n",
    "    # num_skips: it is the number of neighbors around the center word. (batch_size % num_skips == 0)\n",
    "    # skip_window: it's the single side size of the window `span`. a window (`span`) of size 3 is of the `skip_window`=1 (batch_size % num_skips == 0)\n",
    "\n",
    "  global data_index\n",
    "  assert batch_size % num_skips == 0\n",
    "  assert num_skips <= 2 * skip_window\n",
    "  span = 2 * skip_window + 1 # [ skip_window target skip_window ]\n",
    "  buffer = collections.deque(maxlen=span)\n",
    "#   print('buffer:', type(buffer), buffer)\n",
    "#   print('span:', type(span), span)\n",
    "  \n",
    "#   print('[PART I]:')\n",
    "  # get buffer, which stores the `word index` of the words in the window of size `span`, the left most position of this window is `data_index`\n",
    "  for _ in range(span):\n",
    "#     print(data_index, data[data_index])\n",
    "    buffer.append(data[data_index])\n",
    "    data_index = (data_index + 1) % len(data) # repeat\n",
    "#   print('buffer_start:', type(buffer), buffer,'\\n') # 'word index': with the 'data_index' in entire words data, it stores the 'word index' defined in dictionary \n",
    "  \n",
    "#   print('[PART II]:')\n",
    "#   batch = np.ndarray(shape=(batch_size), dtype=np.int32)\n",
    "  batch = -1*np.ones(shape=(batch_size), dtype=np.int32)\n",
    "#   print('batch(-1,-1):', type(batch), batch)\n",
    "#   labels = np.ndarray(shape=(batch_size, 1), dtype=np.int32)  \n",
    "  labels = -1*np.ones(shape=(batch_size, 1), dtype=np.int32)\n",
    "#   print('labels(-1,-1):', type(labels), np.transpose(labels))\n",
    "#   print(batch_size, num_skips, batch_size // num_skips)\n",
    "  for i in range(batch_size // num_skips):\n",
    "    target = skip_window  # target label at the center of the buffer, range [0,span-1]\n",
    "#     print('target:', type(target), target)\n",
    "    targets_to_avoid = [ skip_window ] # used target\n",
    "#     print('targets_to_avoid:', type(targets_to_avoid), targets_to_avoid)\n",
    "    \n",
    "    for j in range(num_skips):\n",
    "#       print('skip_window:',skip_window)\n",
    "      while target in targets_to_avoid: # select another `target`\n",
    "        target = random.randint(0, span - 1) # random select from the current `span` size\n",
    "      targets_to_avoid.append(target) # add new `target` to list\n",
    "#       print('targets_to_avoid:', type(targets_to_avoid), targets_to_avoid)\n",
    "      batch[i * num_skips + j] = buffer[skip_window] # 'word index' of the center word in 'buffer'\n",
    "#       print('batch(%d,%d):'%(i,j), type(batch), batch)\n",
    "      labels[i * num_skips + j, 0] = buffer[target] # `word index` of the `target`\n",
    "#       print('labels(%d,%d):'%(i,j), type(labels), np.transpose(labels))\n",
    "    \n",
    "    buffer.append(data[data_index])\n",
    "#     print('buffer_end:', type(buffer), buffer,'\\n')\n",
    "    data_index = (data_index + 1) % len(data)\n",
    "  return batch, labels\n",
    "\n",
    "print('data:', [reverse_dictionary[di] for di in data[:8]])\n",
    "\n",
    "for num_skips, skip_window in [(2, 1), (4, 2)]:\n",
    "    print('\\nwith num_skips = %d and skip_window = %d:' % (num_skips, skip_window))\n",
    "    data_index = 0\n",
    "    batch, labels = generate_batch(batch_size=8, num_skips=num_skips, skip_window=skip_window)\n",
    "    print('    batch:', [reverse_dictionary[bi] for bi in batch])\n",
    "    print('    labels:', [reverse_dictionary[li] for li in labels.reshape(8)])"
   ]
  },
  {
   "cell_type": "markdown",
   "metadata": {
    "colab_type": "text",
    "id": "Ofd1MbBuwiva"
   },
   "source": [
    "Train a skip-gram model."
   ]
  },
  {
   "cell_type": "code",
   "execution_count": 138,
   "metadata": {
    "cellView": "both",
    "colab": {
     "autoexec": {
      "startup": false,
      "wait_interval": 0
     }
    },
    "colab_type": "code",
    "collapsed": false,
    "id": "8pQKsV4Vwlzy"
   },
   "outputs": [
    {
     "name": "stdout",
     "output_type": "stream",
     "text": [
      "train_dataset: (128,)\n",
      "train_labels: (128, 1)\n",
      "valid_dataset: (16,)\n",
      "embeddings: (50000, 128)\n",
      "softmax_weights: (50000, 128)\n",
      "softmax_biases: (50000,)\n",
      "embed: (128, 128)\n",
      "loss: ()\n",
      "norm: (50000, 1)\n",
      "normalized_embeddings: (50000, 128)\n",
      "valid_embeddings: (16, 128)\n",
      "similarity: (16, 50000)\n"
     ]
    }
   ],
   "source": [
    "batch_size = 128\n",
    "embedding_size = 128 # Dimension of the embedding vector.\n",
    "skip_window = 1 # How many words to consider left and right.\n",
    "num_skips = 2 # How many times to reuse an input to generate a label.\n",
    "# We pick a random validation set to sample nearest neighbors. here we limit the\n",
    "# validation samples to the words that have a low numeric ID, which by\n",
    "# construction are also the most frequent. \n",
    "valid_size = 16 # Random set of words to evaluate similarity on.\n",
    "valid_window = 100 # Only pick dev samples in the head of the distribution.\n",
    "valid_examples = np.array(random.sample(range(valid_window), valid_size))\n",
    "num_sampled = 64 # Number of negative examples to sample.\n",
    "\n",
    "graph = tf.Graph()\n",
    "\n",
    "with graph.as_default():\n",
    "\n",
    "    # Input data.\n",
    "    train_dataset = tf.placeholder(tf.int32, shape=[batch_size])\n",
    "    print('train_dataset:', train_dataset.get_shape())\n",
    "    train_labels = tf.placeholder(tf.int32, shape=[batch_size, 1])\n",
    "    print('train_labels:', train_labels.get_shape())\n",
    "    valid_dataset = tf.constant(valid_examples, dtype=tf.int32)\n",
    "    print('valid_dataset:', valid_dataset.get_shape())\n",
    "\n",
    "    # Variables.\n",
    "    embeddings = tf.Variable(tf.random_uniform([vocabulary_size, embedding_size], -1.0, 1.0))\n",
    "    print('embeddings:', embeddings.get_shape())\n",
    "    softmax_weights = tf.Variable(tf.truncated_normal([vocabulary_size, embedding_size],stddev=1.0 / math.sqrt(embedding_size)))\n",
    "    print('softmax_weights:', softmax_weights.get_shape())\n",
    "    softmax_biases = tf.Variable(tf.zeros([vocabulary_size]))\n",
    "    print('softmax_biases:', softmax_biases.get_shape())\n",
    "\n",
    "    # Model.\n",
    "    # Look up embeddings for inputs.\n",
    "    embed = tf.nn.embedding_lookup(embeddings, train_dataset)\n",
    "    print('embed:', embed.get_shape())\n",
    "    # Compute the softmax loss, using a sample of the negative labels each time.\n",
    "    loss = tf.reduce_mean(tf.nn.sampled_softmax_loss(softmax_weights, softmax_biases, embed,train_labels, num_sampled, vocabulary_size))\n",
    "    print('loss:', loss.get_shape())\n",
    "\n",
    "    # Optimizer.\n",
    "    optimizer = tf.train.AdagradOptimizer(1.0).minimize(loss)\n",
    " \n",
    "    # Compute the similarity between minibatch examples and all embeddings.\n",
    "    # We use the cosine distance:\n",
    "    norm = tf.sqrt(tf.reduce_sum(tf.square(embeddings), 1, keep_dims=True))\n",
    "    print('norm:', norm.get_shape())\n",
    "    normalized_embeddings = embeddings / norm\n",
    "    print('normalized_embeddings:', normalized_embeddings.get_shape())\n",
    "    valid_embeddings = tf.nn.embedding_lookup(normalized_embeddings, valid_dataset)\n",
    "    print('valid_embeddings:', valid_embeddings.get_shape())\n",
    "    similarity = tf.matmul(valid_embeddings, tf.transpose(normalized_embeddings))\n",
    "    print('similarity:', similarity.get_shape())"
   ]
  },
  {
   "cell_type": "code",
   "execution_count": 139,
   "metadata": {
    "cellView": "both",
    "colab": {
     "autoexec": {
      "startup": false,
      "wait_interval": 0
     },
     "output_extras": [
      {
       "item_id": 23
      },
      {
       "item_id": 48
      },
      {
       "item_id": 61
      }
     ]
    },
    "colab_type": "code",
    "collapsed": false,
    "executionInfo": {
     "elapsed": 436189,
     "status": "ok",
     "timestamp": 1445965429787,
     "user": {
      "color": "#1FA15D",
      "displayName": "Vincent Vanhoucke",
      "isAnonymous": false,
      "isMe": true,
      "permissionId": "05076109866853157986",
      "photoUrl": "//lh6.googleusercontent.com/-cCJa7dTDcgQ/AAAAAAAAAAI/AAAAAAAACgw/r2EZ_8oYer4/s50-c-k-no/photo.jpg",
      "sessionId": "2f1ffade4c9f20de",
      "userId": "102167687554210253930"
     },
     "user_tz": 420
    },
    "id": "1bQFGceBxrWW",
    "outputId": "5ebd6d9a-33c6-4bcd-bf6d-252b0b6055e4"
   },
   "outputs": [
    {
     "name": "stdout",
     "output_type": "stream",
     "text": [
      "Initialized\n",
      "Average loss at step 0: 8.258913\n",
      "Nearest to has: dsm, disputing, lderlin, regi, artiodactyla, blood, instructing, uninterrupted,\n",
      "Nearest to from: toffler, denunciation, maris, francesca, patrols, shatz, lollard, concordance,\n",
      "Nearest to s: mercator, ontogeny, engravers, spoken, milos, employ, framework, partito,\n",
      "Nearest to eight: pedro, xviii, adorning, aleutians, cumulative, overcrowding, usable, reasons,\n",
      "Nearest to so: tollens, smoothly, leftists, liberalisation, globin, lossless, modest, adequacy,\n",
      "Nearest to who: propriety, fulfills, renders, rita, yule, posthuman, berkley, hata,\n",
      "Nearest to time: remey, gaucho, hizbullah, dhaka, steve, metallurgical, analysed, kangaroos,\n",
      "Nearest to they: obsessive, sagan, lifespan, cabins, shrank, irreversible, finer, foregone,\n",
      "Nearest to with: galante, motorway, redshifted, exhibited, aquinas, dubbed, bequeathed, peg,\n",
      "Nearest to no: translocation, spanish, copenhagen, josephine, evasion, atherosclerosis, prejudice, washed,\n",
      "Nearest to had: taxable, crispin, henrietta, journey, paintings, bender, jesus, glenn,\n",
      "Nearest to an: sheila, brennan, workbench, alberta, consecrations, hodgkin, plagiarized, conclave,\n",
      "Nearest to new: andaman, gyro, malaya, hid, get, taoiseach, antiquated, dualism,\n",
      "Nearest to first: join, keynesians, housman, paddock, eleventh, vittorio, encode, yosemite,\n",
      "Nearest to that: postmillennialism, accelerator, fence, supports, tse, servlet, chose, tetris,\n",
      "Nearest to will: bacchus, atrium, umayyads, vom, empowered, boxes, wexford, karo,\n",
      "Average loss at step 2000: 4.358919\n",
      "Average loss at step 4000: 3.865966\n",
      "Average loss at step 6000: 3.789743\n",
      "Average loss at step 8000: 3.685835\n",
      "Average loss at step 10000: 3.613317\n",
      "Nearest to has: had, have, is, dsm, was, pitch, excepted, anglicans,\n",
      "Nearest to from: in, between, by, myelin, francesca, at, trypanosoma, leagues,\n",
      "Nearest to s: his, and, outright, timescales, bow, mercator, namely, lamb,\n",
      "Nearest to eight: nine, six, seven, five, four, three, zero, two,\n",
      "Nearest to so: smoothly, globin, stockport, tollens, lossless, disks, liberalisation, graphite,\n",
      "Nearest to who: he, they, and, there, not, hata, propriety, skyrocketed,\n",
      "Nearest to time: engel, arcturus, mosques, raster, timber, kangaroos, remey, lmi,\n",
      "Nearest to they: he, who, we, it, she, not, obsessive, there,\n",
      "Nearest to with: in, between, paula, universit, by, while, for, exhibited,\n",
      "Nearest to no: translocation, flexible, it, chthonic, changeable, bestow, a, artists,\n",
      "Nearest to had: has, have, was, were, northampton, istrian, could, diagonals,\n",
      "Nearest to an: haikai, journalist, candy, isin, some, mackintosh, completions, the,\n",
      "Nearest to new: scientist, barrels, alkmaar, vashem, aurora, camcorders, malaya, hid,\n",
      "Nearest to first: join, encode, aureus, keynesians, yosemite, hesitate, dislocations, hickory,\n",
      "Nearest to that: which, postmillennialism, this, it, usually, gallifrey, conferencing, selena,\n",
      "Nearest to will: should, bacchus, could, wexford, would, atrium, archimedean, boxes,\n",
      "Average loss at step 12000: 3.607365\n",
      "Average loss at step 14000: 3.569966\n",
      "Average loss at step 16000: 3.412816\n",
      "Average loss at step 18000: 3.457820\n",
      "Average loss at step 20000: 3.537246\n",
      "Nearest to has: had, was, have, is, dsm, devoiced, strewn, postcolonial,\n",
      "Nearest to from: in, between, into, through, after, interior, at, and,\n",
      "Nearest to s: namely, realise, legged, excel, narn, masai, detector, champlain,\n",
      "Nearest to eight: nine, seven, six, four, five, three, two, zero,\n",
      "Nearest to so: planted, later, smoothly, graphite, globin, cannot, penning, kantele,\n",
      "Nearest to who: he, they, which, there, gainsborough, also, balcony, often,\n",
      "Nearest to time: way, arcturus, case, topper, remey, greenberg, thereupon, convincingly,\n",
      "Nearest to they: he, we, there, it, who, she, not, you,\n",
      "Nearest to with: between, in, universit, for, paula, while, inclination, by,\n",
      "Nearest to no: translocation, a, changeable, any, bestow, antimatter, flexible, chthonic,\n",
      "Nearest to had: has, have, was, were, istrian, when, since, diagonals,\n",
      "Nearest to an: brennan, mackintosh, haikai, soft, completions, thick, tilbury, appendages,\n",
      "Nearest to new: hid, barrels, camcorders, humor, nolan, scientist, andaman, shards,\n",
      "Nearest to first: second, next, following, microbial, last, join, ethel, cooperatively,\n",
      "Nearest to that: which, gallifrey, postmillennialism, but, this, usually, what, also,\n",
      "Nearest to will: would, should, could, can, must, archimedean, wexford, atrium,\n",
      "Average loss at step 22000: 3.499697\n",
      "Average loss at step 24000: 3.490059\n",
      "Average loss at step 26000: 3.479427\n",
      "Average loss at step 28000: 3.481446\n",
      "Average loss at step 30000: 3.510558\n",
      "Nearest to has: had, have, is, was, using, delighted, phobias, istrian,\n",
      "Nearest to from: into, in, between, of, under, through, after, by,\n",
      "Nearest to s: masai, his, lough, namely, whose, detector, ionic, decadent,\n",
      "Nearest to eight: nine, seven, six, five, four, three, zero, two,\n",
      "Nearest to so: planted, later, modest, cannot, kantele, graphite, if, penning,\n",
      "Nearest to who: he, they, and, it, she, now, balcony, often,\n",
      "Nearest to time: way, case, kangaroos, set, convincingly, arcturus, coherent, inverness,\n",
      "Nearest to they: we, there, he, it, who, you, she, these,\n",
      "Nearest to with: between, universit, in, for, ime, without, galante, vella,\n",
      "Nearest to no: any, a, translocation, changeable, bestow, antimatter, flexible, infirm,\n",
      "Nearest to had: has, have, was, were, when, istrian, diagonals, having,\n",
      "Nearest to an: mackintosh, haikai, completions, soft, the, figured, arnauld, redshifted,\n",
      "Nearest to new: aqueous, scientist, shards, hid, andaman, camcorders, bitch, wakefield,\n",
      "Nearest to first: last, second, next, following, ethel, microbial, cooperatively, abbotsford,\n",
      "Nearest to that: which, this, what, gallifrey, however, but, postmillennialism, hadiths,\n",
      "Nearest to will: would, should, can, could, must, may, cannot, shall,\n",
      "Average loss at step 32000: 3.501453\n",
      "Average loss at step 34000: 3.493151\n",
      "Average loss at step 36000: 3.456768\n",
      "Average loss at step 38000: 3.305943\n",
      "Average loss at step 40000: 3.431269\n",
      "Nearest to has: had, have, was, is, pickling, depreciation, istrian, ethno,\n",
      "Nearest to from: through, into, after, between, in, stirrups, with, rivets,\n",
      "Nearest to s: his, handed, chancery, naur, whose, pinyin, detector, solo,\n",
      "Nearest to eight: nine, seven, six, four, five, three, two, zero,\n",
      "Nearest to so: planted, lunatics, modest, widow, penning, if, graphite, kantele,\n",
      "Nearest to who: he, often, which, she, they, also, gainsborough, it,\n",
      "Nearest to time: way, case, day, set, coherent, thrust, mosques, greenberg,\n",
      "Nearest to they: we, there, he, you, it, she, not, who,\n",
      "Nearest to with: between, in, including, universit, when, from, for, while,\n",
      "Nearest to no: any, bestow, changeable, infirm, pack, antimatter, implosive, there,\n",
      "Nearest to had: has, have, was, istrian, diagonals, were, having, would,\n",
      "Nearest to an: haikai, greedy, waging, brennan, driscoll, zum, soft, mackintosh,\n",
      "Nearest to new: barrels, canids, aqueous, catal, robotic, hypothesizing, bitch, humor,\n",
      "Nearest to first: second, last, next, final, following, abbotsford, microbial, gladiators,\n",
      "Nearest to that: which, this, what, however, gallifrey, christened, but, who,\n",
      "Nearest to will: would, can, could, should, must, may, might, to,\n",
      "Average loss at step 42000: 3.437407\n",
      "Average loss at step 44000: 3.457155\n",
      "Average loss at step 46000: 3.447009\n",
      "Average loss at step 48000: 3.355150\n",
      "Average loss at step 50000: 3.377369\n",
      "Nearest to has: had, have, was, is, depreciation, would, reconciling, soliciting,\n",
      "Nearest to from: through, into, after, in, under, between, on, during,\n",
      "Nearest to s: lough, mommu, denis, namely, whose, minorities, arras, perkin,\n",
      "Nearest to eight: six, seven, nine, four, five, three, zero, two,\n",
      "Nearest to so: thus, planted, chicagoans, cddb, widow, modest, lunatics, kt,\n",
      "Nearest to who: he, which, she, they, often, complicates, gainsborough, there,\n",
      "Nearest to time: way, year, case, day, segmentata, coherent, thrust, announced,\n",
      "Nearest to they: we, there, he, she, you, it, who, not,\n",
      "Nearest to with: between, universit, reorganizing, castel, integrate, immense, partement, in,\n",
      "Nearest to no: any, infirm, implosive, changeable, translocation, superscalar, wiping, bestow,\n",
      "Nearest to had: has, have, was, were, having, istrian, diagonals, been,\n",
      "Nearest to an: completions, mackintosh, brennan, welles, arnauld, tilbury, waging, ionosphere,\n",
      "Nearest to new: aqueous, bitch, robberies, robotic, slugger, result, massive, formal,\n",
      "Nearest to first: second, last, next, final, following, cooperatively, microbial, third,\n",
      "Nearest to that: which, however, what, this, gallifrey, avert, postmillennialism, who,\n",
      "Nearest to will: would, could, can, should, must, may, might, shall,\n",
      "Average loss at step 52000: 3.440845\n",
      "Average loss at step 54000: 3.425636\n",
      "Average loss at step 56000: 3.442130\n",
      "Average loss at step 58000: 3.395948\n",
      "Average loss at step 60000: 3.390711\n",
      "Nearest to has: have, had, is, was, having, mimicked, castlereagh, reconciling,\n",
      "Nearest to from: through, into, between, after, profil, abstracted, by, without,\n",
      "Nearest to s: whose, lough, heh, denis, jamo, mentha, superimposed, handed,\n",
      "Nearest to eight: nine, six, seven, four, five, three, zero, two,\n",
      "Nearest to so: too, chicagoans, planted, thus, enough, if, nesmith, modest,\n",
      "Nearest to who: now, which, he, often, still, she, also, they,\n",
      "Nearest to time: way, case, set, day, year, thrust, coherent, number,\n",
      "Nearest to they: we, there, you, he, she, it, i, these,\n",
      "Nearest to with: between, universit, without, by, when, including, vella, among,\n",
      "Nearest to no: any, wiping, infirm, translocation, little, changeable, superscalar, implosive,\n",
      "Nearest to had: has, have, was, were, istrian, having, could, would,\n",
      "Nearest to an: brennan, mackintosh, completions, haikai, driscoll, figured, arnauld, plagiarized,\n",
      "Nearest to new: bitch, formal, specific, special, acapulco, particular, massive, aqueous,\n",
      "Nearest to first: last, second, next, final, following, hasten, best, latter,\n",
      "Nearest to that: which, however, what, this, postmillennialism, christened, it, often,\n",
      "Nearest to will: would, could, can, should, must, may, might, cannot,\n",
      "Average loss at step 62000: 3.240569\n",
      "Average loss at step 64000: 3.261327\n",
      "Average loss at step 66000: 3.404264\n",
      "Average loss at step 68000: 3.390271\n",
      "Average loss at step 70000: 3.359277\n",
      "Nearest to has: had, have, is, was, depreciation, since, reconciling, istrian,\n",
      "Nearest to from: through, into, between, abstracted, calvinball, in, across, cto,\n",
      "Nearest to s: whose, culinary, baba, afoul, resource, denis, mommu, fermenting,\n",
      "Nearest to eight: nine, six, seven, four, five, zero, three, two,\n",
      "Nearest to so: thus, chicagoans, too, planted, boosted, leicestershire, hertfordshire, wove,\n",
      "Nearest to who: now, which, hata, he, she, they, hordes, pmrc,\n",
      "Nearest to time: way, case, thrust, period, dispelled, year, coherent, kept,\n",
      "Nearest to they: we, there, he, it, you, she, these, who,\n",
      "Nearest to with: between, universit, among, including, for, ime, hussites, immense,\n",
      "Nearest to no: any, infirm, little, there, translocation, wiping, lakers, implosive,\n",
      "Nearest to had: has, have, was, were, having, istrian, diagonals, sincerely,\n",
      "Nearest to an: brennan, arnauld, mackintosh, publications, the, plagiarized, completions, haikai,\n",
      "Nearest to new: acapulco, specific, predynastic, mime, formal, bitch, special, audit,\n",
      "Nearest to first: last, second, next, final, third, best, following, abbotsford,\n",
      "Nearest to that: which, however, this, what, but, where, graeco, wilfrid,\n",
      "Nearest to will: would, could, can, may, must, should, might, cannot,\n",
      "Average loss at step 72000: 3.375176\n",
      "Average loss at step 74000: 3.349843\n",
      "Average loss at step 76000: 3.315105\n",
      "Average loss at step 78000: 3.351411\n",
      "Average loss at step 80000: 3.379471\n",
      "Nearest to has: had, have, is, was, depreciation, although, includes, considerable,\n",
      "Nearest to from: through, into, anteater, in, abstracted, before, calvinball, stirrups,\n",
      "Nearest to s: masai, mentha, skelton, solo, namely, heh, her, jamo,\n",
      "Nearest to eight: nine, six, seven, five, four, three, zero, two,\n",
      "Nearest to so: chicagoans, boosted, thus, later, leicestershire, too, planted, reeds,\n",
      "Nearest to who: he, she, they, often, which, born, hata, now,\n",
      "Nearest to time: year, day, way, century, period, decade, coherent, bayonets,\n",
      "Nearest to they: we, there, he, you, she, it, these, who,\n",
      "Nearest to with: between, including, into, vella, philippians, inclination, tojo, among,\n",
      "Nearest to no: little, any, infirm, lakers, translocation, grey, superscalar, wiping,\n",
      "Nearest to had: have, has, were, was, having, istrian, diagonals, wanted,\n",
      "Nearest to an: mackintosh, practised, arnauld, plagiarized, completions, brennan, orgasm, misunderstood,\n",
      "Nearest to new: specific, acapulco, catal, bitch, altaic, predynastic, temper, massive,\n",
      "Nearest to first: last, second, next, third, final, best, mechanic, abbotsford,\n",
      "Nearest to that: which, however, this, what, where, generally, potentially, but,\n",
      "Nearest to will: would, could, can, may, must, should, might, cannot,\n",
      "Average loss at step 82000: 3.408102\n",
      "Average loss at step 84000: 3.412743\n",
      "Average loss at step 86000: 3.393183\n",
      "Average loss at step 88000: 3.350643\n",
      "Average loss at step 90000: 3.365551\n",
      "Nearest to has: had, have, is, was, includes, depreciation, mimicked, recieved,\n",
      "Nearest to from: through, into, across, between, during, in, under, fca,\n",
      "Nearest to s: whose, lough, his, masai, solo, kilgore, operettas, heh,\n",
      "Nearest to eight: seven, nine, five, six, four, three, zero, two,\n",
      "Nearest to so: chicagoans, boosted, thus, planted, convulsions, later, leicestershire, alem,\n",
      "Nearest to who: often, he, she, they, but, hata, now, eventually,\n",
      "Nearest to time: day, before, year, period, novgorod, coherent, dispelled, audience,\n",
      "Nearest to they: we, he, there, you, she, it, who, but,\n",
      "Nearest to with: between, universit, by, penned, in, when, chuan, peugeot,\n",
      "Nearest to no: any, little, nothing, infirm, cusp, translocation, practically, grey,\n",
      "Nearest to had: has, have, were, was, having, diagonals, started, never,\n",
      "Nearest to an: brennan, mackintosh, gregory, zum, plagiarized, completions, haikai, publications,\n",
      "Nearest to new: specific, altaic, dawning, formal, hypothesizing, massive, catal, robotic,\n",
      "Nearest to first: last, second, next, final, third, best, mechanic, abbotsford,\n",
      "Nearest to that: which, however, what, but, unfolding, prompts, where, instead,\n",
      "Nearest to will: would, could, can, must, may, should, might, cannot,\n",
      "Average loss at step 92000: 3.397780\n",
      "Average loss at step 94000: 3.250998\n",
      "Average loss at step 96000: 3.354677\n",
      "Average loss at step 98000: 3.244881\n",
      "Average loss at step 100000: 3.357757\n",
      "Nearest to has: had, have, is, was, since, mimicked, gives, recieved,\n",
      "Nearest to from: through, in, into, profil, between, without, calvinball, konrad,\n",
      "Nearest to s: whose, his, the, arras, mentha, namely, slippery, culinary,\n",
      "Nearest to eight: seven, nine, six, four, five, three, two, zero,\n",
      "Nearest to so: boosted, thus, chicagoans, too, alcor, felice, reeds, alem,\n",
      "Nearest to who: he, she, often, now, never, there, they, and,\n",
      "Nearest to time: day, year, way, period, segmentata, doing, manner, sumatran,\n",
      "Nearest to they: we, he, there, you, she, it, i, who,\n",
      "Nearest to with: between, including, universit, when, within, during, using, egmont,\n",
      "Nearest to no: any, little, grey, infirm, another, unspecified, cusp, lakers,\n",
      "Nearest to had: has, have, was, having, were, diagonals, would, took,\n",
      "Nearest to an: brennan, mackintosh, another, haikai, tilbury, arnauld, zum, completions,\n",
      "Nearest to new: specific, altaic, hypothesizing, catal, formal, dawning, rings, single,\n",
      "Nearest to first: last, second, next, final, third, best, abbotsford, cormen,\n",
      "Nearest to that: which, however, what, prompts, unfolding, gallifrey, who, instead,\n",
      "Nearest to will: would, could, can, must, may, should, might, cannot,\n"
     ]
    }
   ],
   "source": [
    "num_steps = 100001\n",
    "\n",
    "with tf.Session(graph=graph) as session:\n",
    "  tf.initialize_all_variables().run()\n",
    "  print('Initialized')\n",
    "  average_loss = 0\n",
    "  for step in range(num_steps):\n",
    "    batch_data, batch_labels = generate_batch(batch_size, num_skips, skip_window)\n",
    "    feed_dict = {train_dataset : batch_data, train_labels : batch_labels}\n",
    "    _, l = session.run([optimizer, loss], feed_dict=feed_dict)\n",
    "    \n",
    "    average_loss += l\n",
    "    if step % 2000 == 0:\n",
    "      if step > 0:\n",
    "        average_loss = average_loss / 2000\n",
    "      # The average loss is an estimate of the loss over the last 2000 batches.\n",
    "      print('Average loss at step %d: %f' % (step, average_loss))\n",
    "      average_loss = 0\n",
    "    \n",
    "    # note that this is expensive (~20% slowdown if computed every 500 steps)\n",
    "    if step % 10000 == 0:\n",
    "      sim = similarity.eval()\n",
    "      for i in xrange(valid_size):\n",
    "        valid_word = reverse_dictionary[valid_examples[i]]\n",
    "        top_k = 8 # number of nearest neighbors\n",
    "        nearest = (-sim[i, :]).argsort()[1:top_k+1]\n",
    "        log = 'Nearest to %s:' % valid_word\n",
    "        for k in xrange(top_k):\n",
    "          close_word = reverse_dictionary[nearest[k]]\n",
    "          log = '%s %s,' % (log, close_word)\n",
    "        print(log)\n",
    "  final_embeddings = normalized_embeddings.eval()"
   ]
  },
  {
   "cell_type": "code",
   "execution_count": 140,
   "metadata": {
    "cellView": "both",
    "colab": {
     "autoexec": {
      "startup": false,
      "wait_interval": 0
     }
    },
    "colab_type": "code",
    "collapsed": true,
    "id": "jjJXYA_XzV79"
   },
   "outputs": [],
   "source": [
    "num_points = 400\n",
    "\n",
    "tsne = TSNE(perplexity=30, n_components=2, init='pca', n_iter=5000)\n",
    "two_d_embeddings = tsne.fit_transform(final_embeddings[1:num_points+1, :])"
   ]
  },
  {
   "cell_type": "code",
   "execution_count": 142,
   "metadata": {
    "cellView": "both",
    "colab": {
     "autoexec": {
      "startup": false,
      "wait_interval": 0
     },
     "output_extras": [
      {
       "item_id": 1
      }
     ]
    },
    "colab_type": "code",
    "collapsed": false,
    "executionInfo": {
     "elapsed": 4763,
     "status": "ok",
     "timestamp": 1445965465525,
     "user": {
      "color": "#1FA15D",
      "displayName": "Vincent Vanhoucke",
      "isAnonymous": false,
      "isMe": true,
      "permissionId": "05076109866853157986",
      "photoUrl": "//lh6.googleusercontent.com/-cCJa7dTDcgQ/AAAAAAAAAAI/AAAAAAAACgw/r2EZ_8oYer4/s50-c-k-no/photo.jpg",
      "sessionId": "2f1ffade4c9f20de",
      "userId": "102167687554210253930"
     },
     "user_tz": 420
    },
    "id": "o_e0D_UezcDe",
    "outputId": "df22e4a5-e8ec-4e5e-d384-c6cf37c68c34"
   },
   "outputs": [],
   "source": [
    "def plot(embeddings, labels):\n",
    "  assert embeddings.shape[0] >= len(labels), 'More labels than embeddings'\n",
    "  pylab.figure(figsize=(15,15))  # in inches\n",
    "  for i, label in enumerate(labels):\n",
    "    x, y = embeddings[i,:]\n",
    "    pylab.scatter(x, y)\n",
    "    pylab.annotate(label, xy=(x, y), xytext=(5, 2), textcoords='offset points',\n",
    "                   ha='right', va='bottom')\n",
    "  pylab.show()\n",
    "\n",
    "words = [reverse_dictionary[i] for i in range(1, num_points+1)]\n",
    "plot(two_d_embeddings, words)"
   ]
  },
  {
   "cell_type": "markdown",
   "metadata": {
    "colab_type": "text",
    "id": "QB5EFrBnpNnc"
   },
   "source": [
    "---\n",
    "\n",
    "Problem\n",
    "-------\n",
    "\n",
    "An alternative to Word2Vec is called [CBOW](http://arxiv.org/abs/1301.3781) (Continuous Bag of Words). In the CBOW model, instead of predicting a context word from a word vector, you predict a word from the sum of all the word vectors in its context. Implement and evaluate a CBOW model trained on the text8 dataset.\n",
    "\n",
    "---"
   ]
  }
 ],
 "metadata": {
  "colab": {
   "default_view": {},
   "name": "5_word2vec.ipynb",
   "provenance": [],
   "version": "0.3.2",
   "views": {}
  },
  "kernelspec": {
   "display_name": "Python 2",
   "language": "python",
   "name": "python2"
  },
  "language_info": {
   "codemirror_mode": {
    "name": "ipython",
    "version": 2
   },
   "file_extension": ".py",
   "mimetype": "text/x-python",
   "name": "python",
   "nbconvert_exporter": "python",
   "pygments_lexer": "ipython2",
   "version": "2.7.6"
  }
 },
 "nbformat": 4,
 "nbformat_minor": 0
}
